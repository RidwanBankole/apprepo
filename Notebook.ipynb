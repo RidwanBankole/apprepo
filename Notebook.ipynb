{
 "cells": [
  {
   "cell_type": "markdown",
   "id": "5ff089f4",
   "metadata": {
    "id": "5ff089f4"
   },
   "source": [
    "# Hate Speech Detector"
   ]
  },
  {
   "cell_type": "markdown",
   "id": "1cdc3b85",
   "metadata": {
    "id": "1cdc3b85"
   },
   "source": [
    "Hate speech proliferates online, posing significant societal challenges and threatening the safety and well-being of individuals and communities. Despite efforts to combat this issue, hate speech often goes undetected due to its complex and evolving nature. Identifying and addressing instances of hate speech is crucial for fostering inclusivity, tolerance, and safety in online spaces.\n",
    "\n",
    "To curb the effect of hate speech, we will build a machine leaning model that can accuratey identify tweets that are hate speech and be able to filter it out."
   ]
  },
  {
   "cell_type": "markdown",
   "id": "0510f596",
   "metadata": {
    "id": "0510f596"
   },
   "source": [
    "## Dataset"
   ]
  },
  {
   "cell_type": "markdown",
   "id": "885bb5f2",
   "metadata": {
    "id": "885bb5f2"
   },
   "source": [
    "The data for this project is obtained from 6 different sources. We download the dataset from each of the sources, merge them and thereafter preprocess it to solve any quality and structural issue with the data.\n",
    "\n",
    "The process of getting the dataset together are explained below"
   ]
  },
  {
   "cell_type": "code",
   "execution_count": 1,
   "id": "de8ce443",
   "metadata": {
    "id": "de8ce443"
   },
   "outputs": [],
   "source": [
    "# Import the libraries\n",
    "import glob\n",
    "import pandas as pd\n",
    "import matplotlib.pyplot as plt\n",
    "import seaborn as sns\n",
    "import pickle\n",
    "import re\n",
    "from nltk.corpus import stopwords\n",
    "import nltk\n",
    "from nltk.stem import WordNetLemmatizer\n",
    "from nltk.stem import SnowballStemmer\n",
    "from nltk.tokenize import word_tokenize\n",
    "\n",
    "\n",
    "from sklearn.datasets import make_classification\n",
    "from sklearn.model_selection import train_test_split\n",
    "from sklearn.utils import resample\n",
    "import numpy as np\n",
    "from sklearn.feature_extraction.text import CountVectorizer"
   ]
  },
  {
   "cell_type": "markdown",
   "id": "dd669095",
   "metadata": {
    "id": "dd669095"
   },
   "source": [
    "## Dataset one\n",
    "\n",
    "\n",
    "The first dataset is obtained from this [link](https://github.com/Vicomtech/hate-speech-dataset). We first downloaded it to our local machine and save it in a directory called hate-speech-dataset. The dataset is not structured as it saves each of the tweet in an individual txt file. The corresponding label for the tweet are saved in another folder called annotations_metadata.\n",
    "\n",
    "The tweet with label are for training while those without label are for testing. We will load the data in all_files folder which contains both training and test data. Thereafter, we will merge it with the label. The resulting dataset will then be separated to train and test base on the presence or absence of label."
   ]
  },
  {
   "cell_type": "code",
   "execution_count": null,
   "id": "51f5f76e",
   "metadata": {
    "colab": {
     "base_uri": "https://localhost:8080/"
    },
    "id": "51f5f76e",
    "outputId": "fb1230f9-e9b7-4c73-9da5-9708183b21a8"
   },
   "outputs": [
    {
     "data": {
      "text/plain": [
       "[]"
      ]
     },
     "execution_count": 15,
     "metadata": {},
     "output_type": "execute_result"
    }
   ],
   "source": [
    "# Specify the path to the folder containing the files\n",
    "folder_path = \"hate-speech-dataset/all_files\"\n",
    "\n",
    "# Use glob to get the list of file names that end with .txt in the folder\n",
    "file_names = glob.glob(folder_path + \"\\*.txt\")"
   ]
  },
  {
   "cell_type": "code",
   "execution_count": null,
   "id": "4e3a1da0",
   "metadata": {
    "colab": {
     "base_uri": "https://localhost:8080/",
     "height": 69
    },
    "id": "4e3a1da0",
    "outputId": "95959a11-e49d-442e-9909-1210604bd9ea"
   },
   "outputs": [
    {
     "data": {
      "application/vnd.google.colaboratory.intrinsic+json": {
       "summary": "{\n  \"name\": \"df1\",\n  \"rows\": 0,\n  \"fields\": []\n}",
       "type": "dataframe",
       "variable_name": "df1"
      },
      "text/html": [
       "\n",
       "  <div id=\"df-cfe88026-1c61-4914-91ee-e8325b572e09\" class=\"colab-df-container\">\n",
       "    <div>\n",
       "<style scoped>\n",
       "    .dataframe tbody tr th:only-of-type {\n",
       "        vertical-align: middle;\n",
       "    }\n",
       "\n",
       "    .dataframe tbody tr th {\n",
       "        vertical-align: top;\n",
       "    }\n",
       "\n",
       "    .dataframe thead th {\n",
       "        text-align: right;\n",
       "    }\n",
       "</style>\n",
       "<table border=\"1\" class=\"dataframe\">\n",
       "  <thead>\n",
       "    <tr style=\"text-align: right;\">\n",
       "      <th></th>\n",
       "    </tr>\n",
       "  </thead>\n",
       "  <tbody>\n",
       "  </tbody>\n",
       "</table>\n",
       "</div>\n",
       "    <div class=\"colab-df-buttons\">\n",
       "\n",
       "  <div class=\"colab-df-container\">\n",
       "    <button class=\"colab-df-convert\" onclick=\"convertToInteractive('df-cfe88026-1c61-4914-91ee-e8325b572e09')\"\n",
       "            title=\"Convert this dataframe to an interactive table.\"\n",
       "            style=\"display:none;\">\n",
       "\n",
       "  <svg xmlns=\"http://www.w3.org/2000/svg\" height=\"24px\" viewBox=\"0 -960 960 960\">\n",
       "    <path d=\"M120-120v-720h720v720H120Zm60-500h600v-160H180v160Zm220 220h160v-160H400v160Zm0 220h160v-160H400v160ZM180-400h160v-160H180v160Zm440 0h160v-160H620v160ZM180-180h160v-160H180v160Zm440 0h160v-160H620v160Z\"/>\n",
       "  </svg>\n",
       "    </button>\n",
       "\n",
       "  <style>\n",
       "    .colab-df-container {\n",
       "      display:flex;\n",
       "      gap: 12px;\n",
       "    }\n",
       "\n",
       "    .colab-df-convert {\n",
       "      background-color: #E8F0FE;\n",
       "      border: none;\n",
       "      border-radius: 50%;\n",
       "      cursor: pointer;\n",
       "      display: none;\n",
       "      fill: #1967D2;\n",
       "      height: 32px;\n",
       "      padding: 0 0 0 0;\n",
       "      width: 32px;\n",
       "    }\n",
       "\n",
       "    .colab-df-convert:hover {\n",
       "      background-color: #E2EBFA;\n",
       "      box-shadow: 0px 1px 2px rgba(60, 64, 67, 0.3), 0px 1px 3px 1px rgba(60, 64, 67, 0.15);\n",
       "      fill: #174EA6;\n",
       "    }\n",
       "\n",
       "    .colab-df-buttons div {\n",
       "      margin-bottom: 4px;\n",
       "    }\n",
       "\n",
       "    [theme=dark] .colab-df-convert {\n",
       "      background-color: #3B4455;\n",
       "      fill: #D2E3FC;\n",
       "    }\n",
       "\n",
       "    [theme=dark] .colab-df-convert:hover {\n",
       "      background-color: #434B5C;\n",
       "      box-shadow: 0px 1px 3px 1px rgba(0, 0, 0, 0.15);\n",
       "      filter: drop-shadow(0px 1px 2px rgba(0, 0, 0, 0.3));\n",
       "      fill: #FFFFFF;\n",
       "    }\n",
       "  </style>\n",
       "\n",
       "    <script>\n",
       "      const buttonEl =\n",
       "        document.querySelector('#df-cfe88026-1c61-4914-91ee-e8325b572e09 button.colab-df-convert');\n",
       "      buttonEl.style.display =\n",
       "        google.colab.kernel.accessAllowed ? 'block' : 'none';\n",
       "\n",
       "      async function convertToInteractive(key) {\n",
       "        const element = document.querySelector('#df-cfe88026-1c61-4914-91ee-e8325b572e09');\n",
       "        const dataTable =\n",
       "          await google.colab.kernel.invokeFunction('convertToInteractive',\n",
       "                                                    [key], {});\n",
       "        if (!dataTable) return;\n",
       "\n",
       "        const docLinkHtml = 'Like what you see? Visit the ' +\n",
       "          '<a target=\"_blank\" href=https://colab.research.google.com/notebooks/data_table.ipynb>data table notebook</a>'\n",
       "          + ' to learn more about interactive tables.';\n",
       "        element.innerHTML = '';\n",
       "        dataTable['output_type'] = 'display_data';\n",
       "        await google.colab.output.renderOutput(dataTable, element);\n",
       "        const docLink = document.createElement('div');\n",
       "        docLink.innerHTML = docLinkHtml;\n",
       "        element.appendChild(docLink);\n",
       "      }\n",
       "    </script>\n",
       "  </div>\n",
       "\n",
       "\n",
       "    </div>\n",
       "  </div>\n"
      ],
      "text/plain": [
       "Empty DataFrame\n",
       "Columns: []\n",
       "Index: []"
      ]
     },
     "execution_count": 14,
     "metadata": {},
     "output_type": "execute_result"
    },
    {
     "name": "stdout",
     "output_type": "stream",
     "text": [
      "Error: Runtime no longer has a reference to this dataframe, please re-run this cell and try again.\n"
     ]
    }
   ],
   "source": [
    "# read the content of each files and save the tweet to the corresponding tweet_id\n",
    "\n",
    "tweet_list = []\n",
    "\n",
    "for file_name in file_names:\n",
    "    file_id = file_name.split(\"\\\\\")[-1][:-4]\n",
    "    with open(file_name, \"r\", encoding = \"utf-8\") as f:\n",
    "        tweet = f.read()\n",
    "    tweet_list.append({\"file_id\": file_id,\n",
    "                       \"tweet\": tweet})\n",
    "# save the first dataset as df1\n",
    "df1 = pd.DataFrame(tweet_list)\n",
    "df1.head()"
   ]
  },
  {
   "cell_type": "code",
   "execution_count": null,
   "id": "20444470",
   "metadata": {
    "id": "20444470",
    "outputId": "e69e4eda-7973-48eb-e64e-1fdd69f7b996"
   },
   "outputs": [
    {
     "data": {
      "text/html": [
       "<div>\n",
       "<style scoped>\n",
       "    .dataframe tbody tr th:only-of-type {\n",
       "        vertical-align: middle;\n",
       "    }\n",
       "\n",
       "    .dataframe tbody tr th {\n",
       "        vertical-align: top;\n",
       "    }\n",
       "\n",
       "    .dataframe thead th {\n",
       "        text-align: right;\n",
       "    }\n",
       "</style>\n",
       "<table border=\"1\" class=\"dataframe\">\n",
       "  <thead>\n",
       "    <tr style=\"text-align: right;\">\n",
       "      <th></th>\n",
       "      <th>file_id</th>\n",
       "      <th>tweet</th>\n",
       "      <th>user_id</th>\n",
       "      <th>subforum_id</th>\n",
       "      <th>num_contexts</th>\n",
       "      <th>label</th>\n",
       "    </tr>\n",
       "  </thead>\n",
       "  <tbody>\n",
       "    <tr>\n",
       "      <th>0</th>\n",
       "      <td>12834217_1</td>\n",
       "      <td>As of March 13th , 2014 , the booklet had been...</td>\n",
       "      <td>572066</td>\n",
       "      <td>1346</td>\n",
       "      <td>0</td>\n",
       "      <td>noHate</td>\n",
       "    </tr>\n",
       "    <tr>\n",
       "      <th>1</th>\n",
       "      <td>12834217_10</td>\n",
       "      <td>Thank you in advance. : ) Download the youtube...</td>\n",
       "      <td>572066</td>\n",
       "      <td>1346</td>\n",
       "      <td>0</td>\n",
       "      <td>noHate</td>\n",
       "    </tr>\n",
       "    <tr>\n",
       "      <th>2</th>\n",
       "      <td>12834217_2</td>\n",
       "      <td>In order to help increase the booklets downloa...</td>\n",
       "      <td>572066</td>\n",
       "      <td>1346</td>\n",
       "      <td>0</td>\n",
       "      <td>noHate</td>\n",
       "    </tr>\n",
       "    <tr>\n",
       "      <th>3</th>\n",
       "      <td>12834217_3</td>\n",
       "      <td>( Simply copy and paste the following text int...</td>\n",
       "      <td>572066</td>\n",
       "      <td>1346</td>\n",
       "      <td>0</td>\n",
       "      <td>noHate</td>\n",
       "    </tr>\n",
       "    <tr>\n",
       "      <th>4</th>\n",
       "      <td>12834217_4</td>\n",
       "      <td>Click below for a FREE download of a colorfull...</td>\n",
       "      <td>572066</td>\n",
       "      <td>1346</td>\n",
       "      <td>0</td>\n",
       "      <td>hate</td>\n",
       "    </tr>\n",
       "  </tbody>\n",
       "</table>\n",
       "</div>"
      ],
      "text/plain": [
       "       file_id                                              tweet  user_id  \\\n",
       "0   12834217_1  As of March 13th , 2014 , the booklet had been...   572066   \n",
       "1  12834217_10  Thank you in advance. : ) Download the youtube...   572066   \n",
       "2   12834217_2  In order to help increase the booklets downloa...   572066   \n",
       "3   12834217_3  ( Simply copy and paste the following text int...   572066   \n",
       "4   12834217_4  Click below for a FREE download of a colorfull...   572066   \n",
       "\n",
       "   subforum_id  num_contexts   label  \n",
       "0         1346             0  noHate  \n",
       "1         1346             0  noHate  \n",
       "2         1346             0  noHate  \n",
       "3         1346             0  noHate  \n",
       "4         1346             0    hate  "
      ]
     },
     "execution_count": 4,
     "metadata": {},
     "output_type": "execute_result"
    }
   ],
   "source": [
    "#get the label for df1 and merge it\n",
    "\n",
    "df1_label = pd.read_csv(\"hate-speech-dataset/annotations_metadata.csv\")\n",
    "\n",
    "# merge df1 and df1_label on file_id column\n",
    "\n",
    "df1 = pd.merge(left = df1, right = df1_label, on  = \"file_id\", how = \"left\")\n",
    "\n",
    "# view the complete dataset\n",
    "df1.head()"
   ]
  },
  {
   "cell_type": "code",
   "execution_count": null,
   "id": "a294acda",
   "metadata": {
    "id": "a294acda",
    "outputId": "e2429e78-c1fd-4585-ddca-28600cfb0efd"
   },
   "outputs": [
    {
     "data": {
      "text/html": [
       "<div>\n",
       "<style scoped>\n",
       "    .dataframe tbody tr th:only-of-type {\n",
       "        vertical-align: middle;\n",
       "    }\n",
       "\n",
       "    .dataframe tbody tr th {\n",
       "        vertical-align: top;\n",
       "    }\n",
       "\n",
       "    .dataframe thead th {\n",
       "        text-align: right;\n",
       "    }\n",
       "</style>\n",
       "<table border=\"1\" class=\"dataframe\">\n",
       "  <thead>\n",
       "    <tr style=\"text-align: right;\">\n",
       "      <th></th>\n",
       "      <th>tweet</th>\n",
       "      <th>is_hate</th>\n",
       "    </tr>\n",
       "  </thead>\n",
       "  <tbody>\n",
       "    <tr>\n",
       "      <th>0</th>\n",
       "      <td>As of March 13th , 2014 , the booklet had been...</td>\n",
       "      <td>0.0</td>\n",
       "    </tr>\n",
       "    <tr>\n",
       "      <th>1</th>\n",
       "      <td>Thank you in advance. : ) Download the youtube...</td>\n",
       "      <td>0.0</td>\n",
       "    </tr>\n",
       "    <tr>\n",
       "      <th>2</th>\n",
       "      <td>In order to help increase the booklets downloa...</td>\n",
       "      <td>0.0</td>\n",
       "    </tr>\n",
       "    <tr>\n",
       "      <th>3</th>\n",
       "      <td>( Simply copy and paste the following text int...</td>\n",
       "      <td>0.0</td>\n",
       "    </tr>\n",
       "    <tr>\n",
       "      <th>4</th>\n",
       "      <td>Click below for a FREE download of a colorfull...</td>\n",
       "      <td>1.0</td>\n",
       "    </tr>\n",
       "  </tbody>\n",
       "</table>\n",
       "</div>"
      ],
      "text/plain": [
       "                                               tweet  is_hate\n",
       "0  As of March 13th , 2014 , the booklet had been...      0.0\n",
       "1  Thank you in advance. : ) Download the youtube...      0.0\n",
       "2  In order to help increase the booklets downloa...      0.0\n",
       "3  ( Simply copy and paste the following text int...      0.0\n",
       "4  Click below for a FREE download of a colorfull...      1.0"
      ]
     },
     "execution_count": 5,
     "metadata": {},
     "output_type": "execute_result"
    }
   ],
   "source": [
    "# We need only the tweet colunms and the label columns\n",
    "\n",
    "df1 = df1[[\"tweet\", \"label\"]]\n",
    "\n",
    "# write a function to cateorize the label\n",
    "def is_hate(x):\n",
    "    if x.lower() == \"hate\":\n",
    "        return 1\n",
    "    elif x.lower() == \"nohate\":\n",
    "        return 0\n",
    "    else:\n",
    "        pass\n",
    "# create is_hate column\n",
    "df1[\"is_hate\"] = df1[\"label\"].copy().apply(is_hate)\n",
    "\n",
    "# drop label column\n",
    "df1.drop(columns = \"label\", inplace = True)\n",
    "\n",
    "df1.head()"
   ]
  },
  {
   "cell_type": "markdown",
   "id": "7ed96d33",
   "metadata": {
    "id": "7ed96d33"
   },
   "source": [
    "### Dataset 2\n",
    "\n",
    "The second dataset is gotten from Huggingface. You can access it through this [link](https://huggingface.co/datasets/tweets_hate_speech_detection). The data set is split into train and test. We will merge the two together and rename it to a form that will be consistent with that of df1"
   ]
  },
  {
   "cell_type": "code",
   "execution_count": null,
   "id": "30632d2d",
   "metadata": {
    "id": "30632d2d"
   },
   "outputs": [],
   "source": [
    "# load train dataset\n",
    "df2_train = pd.read_csv(\"huggingface/train_tweet.csv\", encoding = \"utf-8\")\n",
    "df2_test = pd.read_csv(\"huggingface/test_tweets.csv\", encoding = \"utf-8\")\n",
    "\n"
   ]
  },
  {
   "cell_type": "code",
   "execution_count": null,
   "id": "aaad5773",
   "metadata": {
    "id": "aaad5773",
    "outputId": "9198c77e-71ed-491a-b2e5-2e09f401d060"
   },
   "outputs": [
    {
     "data": {
      "text/html": [
       "<div>\n",
       "<style scoped>\n",
       "    .dataframe tbody tr th:only-of-type {\n",
       "        vertical-align: middle;\n",
       "    }\n",
       "\n",
       "    .dataframe tbody tr th {\n",
       "        vertical-align: top;\n",
       "    }\n",
       "\n",
       "    .dataframe thead th {\n",
       "        text-align: right;\n",
       "    }\n",
       "</style>\n",
       "<table border=\"1\" class=\"dataframe\">\n",
       "  <thead>\n",
       "    <tr style=\"text-align: right;\">\n",
       "      <th></th>\n",
       "      <th>id</th>\n",
       "      <th>label</th>\n",
       "      <th>tweet</th>\n",
       "    </tr>\n",
       "  </thead>\n",
       "  <tbody>\n",
       "    <tr>\n",
       "      <th>0</th>\n",
       "      <td>1</td>\n",
       "      <td>0</td>\n",
       "      <td>@user when a father is dysfunctional and is s...</td>\n",
       "    </tr>\n",
       "    <tr>\n",
       "      <th>1</th>\n",
       "      <td>2</td>\n",
       "      <td>0</td>\n",
       "      <td>@user @user thanks for #lyft credit i can't us...</td>\n",
       "    </tr>\n",
       "    <tr>\n",
       "      <th>2</th>\n",
       "      <td>3</td>\n",
       "      <td>0</td>\n",
       "      <td>bihday your majesty</td>\n",
       "    </tr>\n",
       "    <tr>\n",
       "      <th>3</th>\n",
       "      <td>4</td>\n",
       "      <td>0</td>\n",
       "      <td>#model   i love u take with u all the time in ...</td>\n",
       "    </tr>\n",
       "    <tr>\n",
       "      <th>4</th>\n",
       "      <td>5</td>\n",
       "      <td>0</td>\n",
       "      <td>factsguide: society now    #motivation</td>\n",
       "    </tr>\n",
       "  </tbody>\n",
       "</table>\n",
       "</div>"
      ],
      "text/plain": [
       "   id  label                                              tweet\n",
       "0   1      0   @user when a father is dysfunctional and is s...\n",
       "1   2      0  @user @user thanks for #lyft credit i can't us...\n",
       "2   3      0                                bihday your majesty\n",
       "3   4      0  #model   i love u take with u all the time in ...\n",
       "4   5      0             factsguide: society now    #motivation"
      ]
     },
     "execution_count": 7,
     "metadata": {},
     "output_type": "execute_result"
    }
   ],
   "source": [
    "df2_train.head()"
   ]
  },
  {
   "cell_type": "code",
   "execution_count": null,
   "id": "f4629b66",
   "metadata": {
    "id": "f4629b66",
    "outputId": "2a6c69af-e471-4c11-b16f-bd5f973929f9"
   },
   "outputs": [
    {
     "data": {
      "text/html": [
       "<div>\n",
       "<style scoped>\n",
       "    .dataframe tbody tr th:only-of-type {\n",
       "        vertical-align: middle;\n",
       "    }\n",
       "\n",
       "    .dataframe tbody tr th {\n",
       "        vertical-align: top;\n",
       "    }\n",
       "\n",
       "    .dataframe thead th {\n",
       "        text-align: right;\n",
       "    }\n",
       "</style>\n",
       "<table border=\"1\" class=\"dataframe\">\n",
       "  <thead>\n",
       "    <tr style=\"text-align: right;\">\n",
       "      <th></th>\n",
       "      <th>id</th>\n",
       "      <th>tweet</th>\n",
       "    </tr>\n",
       "  </thead>\n",
       "  <tbody>\n",
       "    <tr>\n",
       "      <th>0</th>\n",
       "      <td>31963</td>\n",
       "      <td>#studiolife #aislife #requires #passion #dedic...</td>\n",
       "    </tr>\n",
       "    <tr>\n",
       "      <th>1</th>\n",
       "      <td>31964</td>\n",
       "      <td>@user #white #supremacists want everyone to s...</td>\n",
       "    </tr>\n",
       "    <tr>\n",
       "      <th>2</th>\n",
       "      <td>31965</td>\n",
       "      <td>safe ways to heal your #acne!!    #altwaystohe...</td>\n",
       "    </tr>\n",
       "    <tr>\n",
       "      <th>3</th>\n",
       "      <td>31966</td>\n",
       "      <td>is the hp and the cursed child book up for res...</td>\n",
       "    </tr>\n",
       "    <tr>\n",
       "      <th>4</th>\n",
       "      <td>31967</td>\n",
       "      <td>3rd #bihday to my amazing, hilarious #nephew...</td>\n",
       "    </tr>\n",
       "  </tbody>\n",
       "</table>\n",
       "</div>"
      ],
      "text/plain": [
       "      id                                              tweet\n",
       "0  31963  #studiolife #aislife #requires #passion #dedic...\n",
       "1  31964   @user #white #supremacists want everyone to s...\n",
       "2  31965  safe ways to heal your #acne!!    #altwaystohe...\n",
       "3  31966  is the hp and the cursed child book up for res...\n",
       "4  31967    3rd #bihday to my amazing, hilarious #nephew..."
      ]
     },
     "execution_count": 8,
     "metadata": {},
     "output_type": "execute_result"
    }
   ],
   "source": [
    "df2_test.head()"
   ]
  },
  {
   "cell_type": "code",
   "execution_count": null,
   "id": "b70f4ab0",
   "metadata": {
    "id": "b70f4ab0",
    "outputId": "cc2277e4-95ec-463c-d87f-c0f3ad470173"
   },
   "outputs": [
    {
     "data": {
      "text/html": [
       "<div>\n",
       "<style scoped>\n",
       "    .dataframe tbody tr th:only-of-type {\n",
       "        vertical-align: middle;\n",
       "    }\n",
       "\n",
       "    .dataframe tbody tr th {\n",
       "        vertical-align: top;\n",
       "    }\n",
       "\n",
       "    .dataframe thead th {\n",
       "        text-align: right;\n",
       "    }\n",
       "</style>\n",
       "<table border=\"1\" class=\"dataframe\">\n",
       "  <thead>\n",
       "    <tr style=\"text-align: right;\">\n",
       "      <th></th>\n",
       "      <th>tweet</th>\n",
       "      <th>is_hate</th>\n",
       "    </tr>\n",
       "  </thead>\n",
       "  <tbody>\n",
       "    <tr>\n",
       "      <th>0</th>\n",
       "      <td>@user when a father is dysfunctional and is s...</td>\n",
       "      <td>0.0</td>\n",
       "    </tr>\n",
       "    <tr>\n",
       "      <th>1</th>\n",
       "      <td>@user @user thanks for #lyft credit i can't us...</td>\n",
       "      <td>0.0</td>\n",
       "    </tr>\n",
       "    <tr>\n",
       "      <th>2</th>\n",
       "      <td>bihday your majesty</td>\n",
       "      <td>0.0</td>\n",
       "    </tr>\n",
       "    <tr>\n",
       "      <th>3</th>\n",
       "      <td>#model   i love u take with u all the time in ...</td>\n",
       "      <td>0.0</td>\n",
       "    </tr>\n",
       "    <tr>\n",
       "      <th>4</th>\n",
       "      <td>factsguide: society now    #motivation</td>\n",
       "      <td>0.0</td>\n",
       "    </tr>\n",
       "  </tbody>\n",
       "</table>\n",
       "</div>"
      ],
      "text/plain": [
       "                                               tweet  is_hate\n",
       "0   @user when a father is dysfunctional and is s...      0.0\n",
       "1  @user @user thanks for #lyft credit i can't us...      0.0\n",
       "2                                bihday your majesty      0.0\n",
       "3  #model   i love u take with u all the time in ...      0.0\n",
       "4             factsguide: society now    #motivation      0.0"
      ]
     },
     "execution_count": 9,
     "metadata": {},
     "output_type": "execute_result"
    }
   ],
   "source": [
    "# concat the two datasets\n",
    "\n",
    "df2 = pd.concat([df2_train, df2_test])\n",
    "\n",
    "# take out label and tweet columns and thereafter rename label to is_hate\n",
    "df2 = df2[[\"tweet\", \"label\"]]\n",
    "\n",
    "# rename the columns\n",
    "df2.columns = [\"tweet\", 'is_hate']\n",
    "\n",
    "df2.head()"
   ]
  },
  {
   "cell_type": "markdown",
   "id": "2a05dbf1",
   "metadata": {
    "id": "2a05dbf1"
   },
   "source": [
    "### Dataset three\n",
    "\n",
    "The third dataset is called hatespeech kenya. It is obtained from this [link](https://www.kaggle.com/datasets/edwardombui/hatespeech-kenya). We will load the dataset and rename the columns to be consistent with the previous two"
   ]
  },
  {
   "cell_type": "code",
   "execution_count": null,
   "id": "5896ec75",
   "metadata": {
    "id": "5896ec75",
    "outputId": "19b62d77-c18a-4e91-f772-7c8dd2343bc2"
   },
   "outputs": [
    {
     "data": {
      "text/html": [
       "<div>\n",
       "<style scoped>\n",
       "    .dataframe tbody tr th:only-of-type {\n",
       "        vertical-align: middle;\n",
       "    }\n",
       "\n",
       "    .dataframe tbody tr th {\n",
       "        vertical-align: top;\n",
       "    }\n",
       "\n",
       "    .dataframe thead th {\n",
       "        text-align: right;\n",
       "    }\n",
       "</style>\n",
       "<table border=\"1\" class=\"dataframe\">\n",
       "  <thead>\n",
       "    <tr style=\"text-align: right;\">\n",
       "      <th></th>\n",
       "      <th>hate_speech</th>\n",
       "      <th>offensive_language</th>\n",
       "      <th>neither</th>\n",
       "      <th>Class</th>\n",
       "      <th>Tweet</th>\n",
       "    </tr>\n",
       "  </thead>\n",
       "  <tbody>\n",
       "    <tr>\n",
       "      <th>0</th>\n",
       "      <td>0</td>\n",
       "      <td>0</td>\n",
       "      <td>3</td>\n",
       "      <td>0</td>\n",
       "      <td>['The political elite are in desperation. Ordi...</td>\n",
       "    </tr>\n",
       "    <tr>\n",
       "      <th>1</th>\n",
       "      <td>0</td>\n",
       "      <td>0</td>\n",
       "      <td>3</td>\n",
       "      <td>0</td>\n",
       "      <td>[\"Am just curious the only people who are call...</td>\n",
       "    </tr>\n",
       "    <tr>\n",
       "      <th>2</th>\n",
       "      <td>0</td>\n",
       "      <td>0</td>\n",
       "      <td>3</td>\n",
       "      <td>0</td>\n",
       "      <td>['USERNAME_3 the area politicians are the one ...</td>\n",
       "    </tr>\n",
       "    <tr>\n",
       "      <th>3</th>\n",
       "      <td>0</td>\n",
       "      <td>0</td>\n",
       "      <td>3</td>\n",
       "      <td>0</td>\n",
       "      <td>['War expected in Nakuru if something is not d...</td>\n",
       "    </tr>\n",
       "    <tr>\n",
       "      <th>4</th>\n",
       "      <td>0</td>\n",
       "      <td>0</td>\n",
       "      <td>3</td>\n",
       "      <td>0</td>\n",
       "      <td>['USERNAME_4 tells kikuyus activists that they...</td>\n",
       "    </tr>\n",
       "  </tbody>\n",
       "</table>\n",
       "</div>"
      ],
      "text/plain": [
       "   hate_speech  offensive_language  neither  Class  \\\n",
       "0            0                   0        3      0   \n",
       "1            0                   0        3      0   \n",
       "2            0                   0        3      0   \n",
       "3            0                   0        3      0   \n",
       "4            0                   0        3      0   \n",
       "\n",
       "                                               Tweet  \n",
       "0  ['The political elite are in desperation. Ordi...  \n",
       "1  [\"Am just curious the only people who are call...  \n",
       "2  ['USERNAME_3 the area politicians are the one ...  \n",
       "3  ['War expected in Nakuru if something is not d...  \n",
       "4  ['USERNAME_4 tells kikuyus activists that they...  "
      ]
     },
     "execution_count": 10,
     "metadata": {},
     "output_type": "execute_result"
    }
   ],
   "source": [
    "# load the dataset\n",
    "df3 = pd.read_csv(\"HateSpeech_Kenya.csv\", encoding = \"utf-8\")\n",
    "df3.head()"
   ]
  },
  {
   "cell_type": "code",
   "execution_count": null,
   "id": "f6dab34f",
   "metadata": {
    "id": "f6dab34f",
    "outputId": "88b5f0bb-47c8-4454-830a-539509ae0a0c"
   },
   "outputs": [
    {
     "data": {
      "text/plain": [
       "array([0, 1, 2], dtype=int64)"
      ]
     },
     "execution_count": 11,
     "metadata": {},
     "output_type": "execute_result"
    }
   ],
   "source": [
    "df3['Class'].unique()"
   ]
  },
  {
   "cell_type": "markdown",
   "id": "639d35bc",
   "metadata": {
    "id": "639d35bc"
   },
   "source": [
    "0 for Neither; 1 for Offensive; 2 for Hate speech. Therefore we will reclass the label with 1 for hate speech and 0 for other classes."
   ]
  },
  {
   "cell_type": "code",
   "execution_count": null,
   "id": "df7f2ea9",
   "metadata": {
    "id": "df7f2ea9",
    "outputId": "57a33ff1-82cc-46d7-a9f4-ebf3ba152d7d"
   },
   "outputs": [
    {
     "data": {
      "text/html": [
       "<div>\n",
       "<style scoped>\n",
       "    .dataframe tbody tr th:only-of-type {\n",
       "        vertical-align: middle;\n",
       "    }\n",
       "\n",
       "    .dataframe tbody tr th {\n",
       "        vertical-align: top;\n",
       "    }\n",
       "\n",
       "    .dataframe thead th {\n",
       "        text-align: right;\n",
       "    }\n",
       "</style>\n",
       "<table border=\"1\" class=\"dataframe\">\n",
       "  <thead>\n",
       "    <tr style=\"text-align: right;\">\n",
       "      <th></th>\n",
       "      <th>hate_speech</th>\n",
       "      <th>offensive_language</th>\n",
       "      <th>neither</th>\n",
       "      <th>Class</th>\n",
       "      <th>Tweet</th>\n",
       "      <th>is_hate</th>\n",
       "    </tr>\n",
       "  </thead>\n",
       "  <tbody>\n",
       "    <tr>\n",
       "      <th>0</th>\n",
       "      <td>0</td>\n",
       "      <td>0</td>\n",
       "      <td>3</td>\n",
       "      <td>0</td>\n",
       "      <td>['The political elite are in desperation. Ordi...</td>\n",
       "      <td>0</td>\n",
       "    </tr>\n",
       "    <tr>\n",
       "      <th>1</th>\n",
       "      <td>0</td>\n",
       "      <td>0</td>\n",
       "      <td>3</td>\n",
       "      <td>0</td>\n",
       "      <td>[\"Am just curious the only people who are call...</td>\n",
       "      <td>0</td>\n",
       "    </tr>\n",
       "    <tr>\n",
       "      <th>2</th>\n",
       "      <td>0</td>\n",
       "      <td>0</td>\n",
       "      <td>3</td>\n",
       "      <td>0</td>\n",
       "      <td>['USERNAME_3 the area politicians are the one ...</td>\n",
       "      <td>0</td>\n",
       "    </tr>\n",
       "    <tr>\n",
       "      <th>3</th>\n",
       "      <td>0</td>\n",
       "      <td>0</td>\n",
       "      <td>3</td>\n",
       "      <td>0</td>\n",
       "      <td>['War expected in Nakuru if something is not d...</td>\n",
       "      <td>0</td>\n",
       "    </tr>\n",
       "    <tr>\n",
       "      <th>4</th>\n",
       "      <td>0</td>\n",
       "      <td>0</td>\n",
       "      <td>3</td>\n",
       "      <td>0</td>\n",
       "      <td>['USERNAME_4 tells kikuyus activists that they...</td>\n",
       "      <td>0</td>\n",
       "    </tr>\n",
       "  </tbody>\n",
       "</table>\n",
       "</div>"
      ],
      "text/plain": [
       "   hate_speech  offensive_language  neither  Class  \\\n",
       "0            0                   0        3      0   \n",
       "1            0                   0        3      0   \n",
       "2            0                   0        3      0   \n",
       "3            0                   0        3      0   \n",
       "4            0                   0        3      0   \n",
       "\n",
       "                                               Tweet  is_hate  \n",
       "0  ['The political elite are in desperation. Ordi...        0  \n",
       "1  [\"Am just curious the only people who are call...        0  \n",
       "2  ['USERNAME_3 the area politicians are the one ...        0  \n",
       "3  ['War expected in Nakuru if something is not d...        0  \n",
       "4  ['USERNAME_4 tells kikuyus activists that they...        0  "
      ]
     },
     "execution_count": 12,
     "metadata": {},
     "output_type": "execute_result"
    }
   ],
   "source": [
    "# define a function to reasign the label\n",
    "def reassign_label(x):\n",
    "    if x == 2:\n",
    "        return 1\n",
    "    else:\n",
    "        return 0\n",
    "\n",
    "# apply the function on class column\n",
    "df3['is_hate'] = df3['Class'].apply(reassign_label)\n",
    "df3.head()"
   ]
  },
  {
   "cell_type": "code",
   "execution_count": null,
   "id": "8a697cda",
   "metadata": {
    "id": "8a697cda"
   },
   "outputs": [],
   "source": [
    "# take the tweet and is_hate columns\n",
    "\n",
    "df3 = df3[[\"Tweet\", \"is_hate\"]]\n",
    "\n",
    "# rename the columns to tweet and is_hate\n",
    "df3.columns = [\"tweet\", \"is_hate\"]"
   ]
  },
  {
   "cell_type": "code",
   "execution_count": null,
   "id": "5f77f029",
   "metadata": {
    "id": "5f77f029",
    "outputId": "f147e8bb-85db-4b71-bcca-281d09826b9b"
   },
   "outputs": [
    {
     "data": {
      "text/html": [
       "<div>\n",
       "<style scoped>\n",
       "    .dataframe tbody tr th:only-of-type {\n",
       "        vertical-align: middle;\n",
       "    }\n",
       "\n",
       "    .dataframe tbody tr th {\n",
       "        vertical-align: top;\n",
       "    }\n",
       "\n",
       "    .dataframe thead th {\n",
       "        text-align: right;\n",
       "    }\n",
       "</style>\n",
       "<table border=\"1\" class=\"dataframe\">\n",
       "  <thead>\n",
       "    <tr style=\"text-align: right;\">\n",
       "      <th></th>\n",
       "      <th>tweet</th>\n",
       "      <th>is_hate</th>\n",
       "    </tr>\n",
       "  </thead>\n",
       "  <tbody>\n",
       "    <tr>\n",
       "      <th>0</th>\n",
       "      <td>['The political elite are in desperation. Ordi...</td>\n",
       "      <td>0</td>\n",
       "    </tr>\n",
       "    <tr>\n",
       "      <th>1</th>\n",
       "      <td>[\"Am just curious the only people who are call...</td>\n",
       "      <td>0</td>\n",
       "    </tr>\n",
       "    <tr>\n",
       "      <th>2</th>\n",
       "      <td>['USERNAME_3 the area politicians are the one ...</td>\n",
       "      <td>0</td>\n",
       "    </tr>\n",
       "    <tr>\n",
       "      <th>3</th>\n",
       "      <td>['War expected in Nakuru if something is not d...</td>\n",
       "      <td>0</td>\n",
       "    </tr>\n",
       "    <tr>\n",
       "      <th>4</th>\n",
       "      <td>['USERNAME_4 tells kikuyus activists that they...</td>\n",
       "      <td>0</td>\n",
       "    </tr>\n",
       "  </tbody>\n",
       "</table>\n",
       "</div>"
      ],
      "text/plain": [
       "                                               tweet  is_hate\n",
       "0  ['The political elite are in desperation. Ordi...        0\n",
       "1  [\"Am just curious the only people who are call...        0\n",
       "2  ['USERNAME_3 the area politicians are the one ...        0\n",
       "3  ['War expected in Nakuru if something is not d...        0\n",
       "4  ['USERNAME_4 tells kikuyus activists that they...        0"
      ]
     },
     "execution_count": 14,
     "metadata": {},
     "output_type": "execute_result"
    }
   ],
   "source": [
    "df3.head()"
   ]
  },
  {
   "cell_type": "markdown",
   "id": "669c2829",
   "metadata": {
    "id": "669c2829"
   },
   "source": [
    "### Dataset four\n",
    "\n",
    "\n",
    "The fourth dataset is Hate Speech Detection curated Dataset gotten from this [link](https://www.kaggle.com/datasets/waalbannyantudre/hate-speech-detection-curated-dataset). we will load the dataset and reconcile the column title"
   ]
  },
  {
   "cell_type": "code",
   "execution_count": null,
   "id": "13e93400",
   "metadata": {
    "id": "13e93400",
    "outputId": "7fc8d4ea-74f4-43f0-cd32-27e15463668b"
   },
   "outputs": [
    {
     "data": {
      "text/html": [
       "<div>\n",
       "<style scoped>\n",
       "    .dataframe tbody tr th:only-of-type {\n",
       "        vertical-align: middle;\n",
       "    }\n",
       "\n",
       "    .dataframe tbody tr th {\n",
       "        vertical-align: top;\n",
       "    }\n",
       "\n",
       "    .dataframe thead th {\n",
       "        text-align: right;\n",
       "    }\n",
       "</style>\n",
       "<table border=\"1\" class=\"dataframe\">\n",
       "  <thead>\n",
       "    <tr style=\"text-align: right;\">\n",
       "      <th></th>\n",
       "      <th>Content</th>\n",
       "      <th>Label</th>\n",
       "      <th>Content_int</th>\n",
       "    </tr>\n",
       "  </thead>\n",
       "  <tbody>\n",
       "    <tr>\n",
       "      <th>0</th>\n",
       "      <td>denial of normal the con be asked to comment o...</td>\n",
       "      <td>1</td>\n",
       "      <td>[146715, 0, 1, 2, 3, 4, 5, 6, 7, 8, 9, 10, 11,...</td>\n",
       "    </tr>\n",
       "    <tr>\n",
       "      <th>1</th>\n",
       "      <td>just by being able to tweet this insufferable ...</td>\n",
       "      <td>1</td>\n",
       "      <td>[146715, 14, 15, 16, 17, 7, 18, 19, 20, 21, 22...</td>\n",
       "    </tr>\n",
       "    <tr>\n",
       "      <th>2</th>\n",
       "      <td>that is retarded you too cute to be single tha...</td>\n",
       "      <td>1</td>\n",
       "      <td>[146715, 28, 29, 30, 26, 31, 32, 7, 5, 33, 28,...</td>\n",
       "    </tr>\n",
       "    <tr>\n",
       "      <th>3</th>\n",
       "      <td>thought of a real badass mongol style declarat...</td>\n",
       "      <td>1</td>\n",
       "      <td>[146715, 35, 1, 24, 36, 37, 38, 39, 40, 1, 41,...</td>\n",
       "    </tr>\n",
       "    <tr>\n",
       "      <th>4</th>\n",
       "      <td>afro american basho</td>\n",
       "      <td>1</td>\n",
       "      <td>[146715, 46, 47, 48, 146714]</td>\n",
       "    </tr>\n",
       "  </tbody>\n",
       "</table>\n",
       "</div>"
      ],
      "text/plain": [
       "                                             Content Label  \\\n",
       "0  denial of normal the con be asked to comment o...     1   \n",
       "1  just by being able to tweet this insufferable ...     1   \n",
       "2  that is retarded you too cute to be single tha...     1   \n",
       "3  thought of a real badass mongol style declarat...     1   \n",
       "4                                afro american basho     1   \n",
       "\n",
       "                                         Content_int  \n",
       "0  [146715, 0, 1, 2, 3, 4, 5, 6, 7, 8, 9, 10, 11,...  \n",
       "1  [146715, 14, 15, 16, 17, 7, 18, 19, 20, 21, 22...  \n",
       "2  [146715, 28, 29, 30, 26, 31, 32, 7, 5, 33, 28,...  \n",
       "3  [146715, 35, 1, 24, 36, 37, 38, 39, 40, 1, 41,...  \n",
       "4                       [146715, 46, 47, 48, 146714]  "
      ]
     },
     "execution_count": 15,
     "metadata": {},
     "output_type": "execute_result"
    }
   ],
   "source": [
    "df4 = pd.read_csv(\"HateSpeechDataset.csv\", encoding = \"utf-8\")\n",
    "\n",
    "df4.head()"
   ]
  },
  {
   "cell_type": "code",
   "execution_count": null,
   "id": "9c7cb7e3",
   "metadata": {
    "id": "9c7cb7e3",
    "outputId": "e05d7ed0-869c-44b9-c2a7-d0a97de26fe4"
   },
   "outputs": [
    {
     "data": {
      "text/html": [
       "<div>\n",
       "<style scoped>\n",
       "    .dataframe tbody tr th:only-of-type {\n",
       "        vertical-align: middle;\n",
       "    }\n",
       "\n",
       "    .dataframe tbody tr th {\n",
       "        vertical-align: top;\n",
       "    }\n",
       "\n",
       "    .dataframe thead th {\n",
       "        text-align: right;\n",
       "    }\n",
       "</style>\n",
       "<table border=\"1\" class=\"dataframe\">\n",
       "  <thead>\n",
       "    <tr style=\"text-align: right;\">\n",
       "      <th></th>\n",
       "      <th>tweet</th>\n",
       "      <th>is_hate</th>\n",
       "    </tr>\n",
       "  </thead>\n",
       "  <tbody>\n",
       "    <tr>\n",
       "      <th>0</th>\n",
       "      <td>denial of normal the con be asked to comment o...</td>\n",
       "      <td>1</td>\n",
       "    </tr>\n",
       "    <tr>\n",
       "      <th>1</th>\n",
       "      <td>just by being able to tweet this insufferable ...</td>\n",
       "      <td>1</td>\n",
       "    </tr>\n",
       "    <tr>\n",
       "      <th>2</th>\n",
       "      <td>that is retarded you too cute to be single tha...</td>\n",
       "      <td>1</td>\n",
       "    </tr>\n",
       "    <tr>\n",
       "      <th>3</th>\n",
       "      <td>thought of a real badass mongol style declarat...</td>\n",
       "      <td>1</td>\n",
       "    </tr>\n",
       "    <tr>\n",
       "      <th>4</th>\n",
       "      <td>afro american basho</td>\n",
       "      <td>1</td>\n",
       "    </tr>\n",
       "  </tbody>\n",
       "</table>\n",
       "</div>"
      ],
      "text/plain": [
       "                                               tweet is_hate\n",
       "0  denial of normal the con be asked to comment o...       1\n",
       "1  just by being able to tweet this insufferable ...       1\n",
       "2  that is retarded you too cute to be single tha...       1\n",
       "3  thought of a real badass mongol style declarat...       1\n",
       "4                                afro american basho       1"
      ]
     },
     "execution_count": 16,
     "metadata": {},
     "output_type": "execute_result"
    }
   ],
   "source": [
    "# get the content and the label columns and rename them to tweet and is_hate respectively\\\n",
    "df4 = df4[[\"Content\", \"Label\"]]\n",
    "\n",
    "# rename the columns\n",
    "df4.columns = [\"tweet\", \"is_hate\"]\n",
    "\n",
    "# view the dataset\n",
    "df4.head()"
   ]
  },
  {
   "cell_type": "code",
   "execution_count": null,
   "id": "236e9915",
   "metadata": {
    "id": "236e9915",
    "outputId": "e5449024-a9c1-4575-9a82-4925aeb17077"
   },
   "outputs": [
    {
     "data": {
      "text/plain": [
       "is_hate\n",
       "0        361594\n",
       "1         79305\n",
       "Label         7\n",
       "Name: count, dtype: int64"
      ]
     },
     "execution_count": 17,
     "metadata": {},
     "output_type": "execute_result"
    }
   ],
   "source": [
    "df4['is_hate'].value_counts()"
   ]
  },
  {
   "cell_type": "code",
   "execution_count": null,
   "id": "4e8059e6",
   "metadata": {
    "id": "4e8059e6",
    "outputId": "f29005a2-0612-44c1-fa96-4175bff30e15"
   },
   "outputs": [
    {
     "data": {
      "text/html": [
       "<div>\n",
       "<style scoped>\n",
       "    .dataframe tbody tr th:only-of-type {\n",
       "        vertical-align: middle;\n",
       "    }\n",
       "\n",
       "    .dataframe tbody tr th {\n",
       "        vertical-align: top;\n",
       "    }\n",
       "\n",
       "    .dataframe thead th {\n",
       "        text-align: right;\n",
       "    }\n",
       "</style>\n",
       "<table border=\"1\" class=\"dataframe\">\n",
       "  <thead>\n",
       "    <tr style=\"text-align: right;\">\n",
       "      <th></th>\n",
       "      <th>tweet</th>\n",
       "      <th>is_hate</th>\n",
       "    </tr>\n",
       "  </thead>\n",
       "  <tbody>\n",
       "    <tr>\n",
       "      <th>190108</th>\n",
       "      <td>content</td>\n",
       "      <td>Label</td>\n",
       "    </tr>\n",
       "    <tr>\n",
       "      <th>418486</th>\n",
       "      <td>content</td>\n",
       "      <td>Label</td>\n",
       "    </tr>\n",
       "    <tr>\n",
       "      <th>422333</th>\n",
       "      <td>content</td>\n",
       "      <td>Label</td>\n",
       "    </tr>\n",
       "    <tr>\n",
       "      <th>424241</th>\n",
       "      <td>content</td>\n",
       "      <td>Label</td>\n",
       "    </tr>\n",
       "    <tr>\n",
       "      <th>426162</th>\n",
       "      <td>content</td>\n",
       "      <td>Label</td>\n",
       "    </tr>\n",
       "    <tr>\n",
       "      <th>435474</th>\n",
       "      <td>content</td>\n",
       "      <td>Label</td>\n",
       "    </tr>\n",
       "    <tr>\n",
       "      <th>437104</th>\n",
       "      <td>content</td>\n",
       "      <td>Label</td>\n",
       "    </tr>\n",
       "  </tbody>\n",
       "</table>\n",
       "</div>"
      ],
      "text/plain": [
       "          tweet is_hate\n",
       "190108  content   Label\n",
       "418486  content   Label\n",
       "422333  content   Label\n",
       "424241  content   Label\n",
       "426162  content   Label\n",
       "435474  content   Label\n",
       "437104  content   Label"
      ]
     },
     "execution_count": 18,
     "metadata": {},
     "output_type": "execute_result"
    }
   ],
   "source": [
    "df4[df4['is_hate'] == \"Label\"]"
   ]
  },
  {
   "cell_type": "markdown",
   "id": "409ac6ed",
   "metadata": {
    "id": "409ac6ed"
   },
   "source": [
    "seven of the observations in the dataset four has a non boolean label \"Label\". A closer observations shows that the those entries doesn't make any sense as their correscponding tweet are just \"Content\". Thus, we will drop those observations"
   ]
  },
  {
   "cell_type": "code",
   "execution_count": null,
   "id": "0d457778",
   "metadata": {
    "id": "0d457778"
   },
   "outputs": [],
   "source": [
    "df4 = df4[df4['is_hate'] != \"Label\"]"
   ]
  },
  {
   "cell_type": "markdown",
   "id": "8777866e",
   "metadata": {
    "id": "8777866e"
   },
   "source": [
    "### Dataset five\n",
    "\n",
    "The fifth dataset is Hate Speech and Offensive Language Dataset from this [link](https://www.kaggle.com/datasets/mrmorj/hate-speech-and-offensive-language-dataset). Load the dataset and reconcile the columns"
   ]
  },
  {
   "cell_type": "code",
   "execution_count": null,
   "id": "af5746c7",
   "metadata": {
    "id": "af5746c7",
    "outputId": "3427cf85-6cca-4df3-dbed-3f9d2b2c4692"
   },
   "outputs": [
    {
     "data": {
      "text/html": [
       "<div>\n",
       "<style scoped>\n",
       "    .dataframe tbody tr th:only-of-type {\n",
       "        vertical-align: middle;\n",
       "    }\n",
       "\n",
       "    .dataframe tbody tr th {\n",
       "        vertical-align: top;\n",
       "    }\n",
       "\n",
       "    .dataframe thead th {\n",
       "        text-align: right;\n",
       "    }\n",
       "</style>\n",
       "<table border=\"1\" class=\"dataframe\">\n",
       "  <thead>\n",
       "    <tr style=\"text-align: right;\">\n",
       "      <th></th>\n",
       "      <th>Unnamed: 0</th>\n",
       "      <th>count</th>\n",
       "      <th>hate_speech</th>\n",
       "      <th>offensive_language</th>\n",
       "      <th>neither</th>\n",
       "      <th>class</th>\n",
       "      <th>tweet</th>\n",
       "    </tr>\n",
       "  </thead>\n",
       "  <tbody>\n",
       "    <tr>\n",
       "      <th>0</th>\n",
       "      <td>0</td>\n",
       "      <td>3</td>\n",
       "      <td>0</td>\n",
       "      <td>0</td>\n",
       "      <td>3</td>\n",
       "      <td>2</td>\n",
       "      <td>!!! RT @mayasolovely: As a woman you shouldn't...</td>\n",
       "    </tr>\n",
       "    <tr>\n",
       "      <th>1</th>\n",
       "      <td>1</td>\n",
       "      <td>3</td>\n",
       "      <td>0</td>\n",
       "      <td>3</td>\n",
       "      <td>0</td>\n",
       "      <td>1</td>\n",
       "      <td>!!!!! RT @mleew17: boy dats cold...tyga dwn ba...</td>\n",
       "    </tr>\n",
       "    <tr>\n",
       "      <th>2</th>\n",
       "      <td>2</td>\n",
       "      <td>3</td>\n",
       "      <td>0</td>\n",
       "      <td>3</td>\n",
       "      <td>0</td>\n",
       "      <td>1</td>\n",
       "      <td>!!!!!!! RT @UrKindOfBrand Dawg!!!! RT @80sbaby...</td>\n",
       "    </tr>\n",
       "    <tr>\n",
       "      <th>3</th>\n",
       "      <td>3</td>\n",
       "      <td>3</td>\n",
       "      <td>0</td>\n",
       "      <td>2</td>\n",
       "      <td>1</td>\n",
       "      <td>1</td>\n",
       "      <td>!!!!!!!!! RT @C_G_Anderson: @viva_based she lo...</td>\n",
       "    </tr>\n",
       "    <tr>\n",
       "      <th>4</th>\n",
       "      <td>4</td>\n",
       "      <td>6</td>\n",
       "      <td>0</td>\n",
       "      <td>6</td>\n",
       "      <td>0</td>\n",
       "      <td>1</td>\n",
       "      <td>!!!!!!!!!!!!! RT @ShenikaRoberts: The shit you...</td>\n",
       "    </tr>\n",
       "  </tbody>\n",
       "</table>\n",
       "</div>"
      ],
      "text/plain": [
       "   Unnamed: 0  count  hate_speech  offensive_language  neither  class  \\\n",
       "0           0      3            0                   0        3      2   \n",
       "1           1      3            0                   3        0      1   \n",
       "2           2      3            0                   3        0      1   \n",
       "3           3      3            0                   2        1      1   \n",
       "4           4      6            0                   6        0      1   \n",
       "\n",
       "                                               tweet  \n",
       "0  !!! RT @mayasolovely: As a woman you shouldn't...  \n",
       "1  !!!!! RT @mleew17: boy dats cold...tyga dwn ba...  \n",
       "2  !!!!!!! RT @UrKindOfBrand Dawg!!!! RT @80sbaby...  \n",
       "3  !!!!!!!!! RT @C_G_Anderson: @viva_based she lo...  \n",
       "4  !!!!!!!!!!!!! RT @ShenikaRoberts: The shit you...  "
      ]
     },
     "execution_count": 20,
     "metadata": {},
     "output_type": "execute_result"
    }
   ],
   "source": [
    "# load the dataset\n",
    "df5 = pd.read_csv(\"labeled_data.csv\", encoding = \"utf-8\")\n",
    "\n",
    "df5.head()"
   ]
  },
  {
   "cell_type": "code",
   "execution_count": null,
   "id": "1ecaebb0",
   "metadata": {
    "id": "1ecaebb0",
    "outputId": "a830b032-3c92-4b5c-d069-49ed6be63b35"
   },
   "outputs": [
    {
     "data": {
      "text/plain": [
       "array([2, 1, 0], dtype=int64)"
      ]
     },
     "execution_count": 21,
     "metadata": {},
     "output_type": "execute_result"
    }
   ],
   "source": [
    "df5['class'].unique()"
   ]
  },
  {
   "cell_type": "markdown",
   "id": "4f300bb3",
   "metadata": {
    "id": "4f300bb3"
   },
   "source": [
    "Class 0 refers to hate speech, class 1 refers to offensive language and class 2 refers to neither. We will reclass the label and give those that are hate speech a label of 1 while the other classes are given a label of 0."
   ]
  },
  {
   "cell_type": "code",
   "execution_count": null,
   "id": "822b723d",
   "metadata": {
    "id": "822b723d",
    "outputId": "a737cabf-8645-40f4-bfdd-10e53f3cefb8"
   },
   "outputs": [
    {
     "data": {
      "text/html": [
       "<div>\n",
       "<style scoped>\n",
       "    .dataframe tbody tr th:only-of-type {\n",
       "        vertical-align: middle;\n",
       "    }\n",
       "\n",
       "    .dataframe tbody tr th {\n",
       "        vertical-align: top;\n",
       "    }\n",
       "\n",
       "    .dataframe thead th {\n",
       "        text-align: right;\n",
       "    }\n",
       "</style>\n",
       "<table border=\"1\" class=\"dataframe\">\n",
       "  <thead>\n",
       "    <tr style=\"text-align: right;\">\n",
       "      <th></th>\n",
       "      <th>Unnamed: 0</th>\n",
       "      <th>count</th>\n",
       "      <th>hate_speech</th>\n",
       "      <th>offensive_language</th>\n",
       "      <th>neither</th>\n",
       "      <th>class</th>\n",
       "      <th>tweet</th>\n",
       "      <th>is_hate</th>\n",
       "    </tr>\n",
       "  </thead>\n",
       "  <tbody>\n",
       "    <tr>\n",
       "      <th>0</th>\n",
       "      <td>0</td>\n",
       "      <td>3</td>\n",
       "      <td>0</td>\n",
       "      <td>0</td>\n",
       "      <td>3</td>\n",
       "      <td>2</td>\n",
       "      <td>!!! RT @mayasolovely: As a woman you shouldn't...</td>\n",
       "      <td>0</td>\n",
       "    </tr>\n",
       "    <tr>\n",
       "      <th>1</th>\n",
       "      <td>1</td>\n",
       "      <td>3</td>\n",
       "      <td>0</td>\n",
       "      <td>3</td>\n",
       "      <td>0</td>\n",
       "      <td>1</td>\n",
       "      <td>!!!!! RT @mleew17: boy dats cold...tyga dwn ba...</td>\n",
       "      <td>0</td>\n",
       "    </tr>\n",
       "    <tr>\n",
       "      <th>2</th>\n",
       "      <td>2</td>\n",
       "      <td>3</td>\n",
       "      <td>0</td>\n",
       "      <td>3</td>\n",
       "      <td>0</td>\n",
       "      <td>1</td>\n",
       "      <td>!!!!!!! RT @UrKindOfBrand Dawg!!!! RT @80sbaby...</td>\n",
       "      <td>0</td>\n",
       "    </tr>\n",
       "    <tr>\n",
       "      <th>3</th>\n",
       "      <td>3</td>\n",
       "      <td>3</td>\n",
       "      <td>0</td>\n",
       "      <td>2</td>\n",
       "      <td>1</td>\n",
       "      <td>1</td>\n",
       "      <td>!!!!!!!!! RT @C_G_Anderson: @viva_based she lo...</td>\n",
       "      <td>0</td>\n",
       "    </tr>\n",
       "    <tr>\n",
       "      <th>4</th>\n",
       "      <td>4</td>\n",
       "      <td>6</td>\n",
       "      <td>0</td>\n",
       "      <td>6</td>\n",
       "      <td>0</td>\n",
       "      <td>1</td>\n",
       "      <td>!!!!!!!!!!!!! RT @ShenikaRoberts: The shit you...</td>\n",
       "      <td>0</td>\n",
       "    </tr>\n",
       "  </tbody>\n",
       "</table>\n",
       "</div>"
      ],
      "text/plain": [
       "   Unnamed: 0  count  hate_speech  offensive_language  neither  class  \\\n",
       "0           0      3            0                   0        3      2   \n",
       "1           1      3            0                   3        0      1   \n",
       "2           2      3            0                   3        0      1   \n",
       "3           3      3            0                   2        1      1   \n",
       "4           4      6            0                   6        0      1   \n",
       "\n",
       "                                               tweet  is_hate  \n",
       "0  !!! RT @mayasolovely: As a woman you shouldn't...        0  \n",
       "1  !!!!! RT @mleew17: boy dats cold...tyga dwn ba...        0  \n",
       "2  !!!!!!! RT @UrKindOfBrand Dawg!!!! RT @80sbaby...        0  \n",
       "3  !!!!!!!!! RT @C_G_Anderson: @viva_based she lo...        0  \n",
       "4  !!!!!!!!!!!!! RT @ShenikaRoberts: The shit you...        0  "
      ]
     },
     "execution_count": 22,
     "metadata": {},
     "output_type": "execute_result"
    }
   ],
   "source": [
    "# define a function to reasign the label\n",
    "def reassign_label(x):\n",
    "    if x == 0:\n",
    "        return 1\n",
    "    else:\n",
    "        return 0\n",
    "\n",
    "# apply the function on class column\n",
    "df5['is_hate'] = df5['class'].apply(reassign_label)\n",
    "df5.head()"
   ]
  },
  {
   "cell_type": "code",
   "execution_count": null,
   "id": "590bbb4f",
   "metadata": {
    "id": "590bbb4f",
    "outputId": "765cba44-0758-49cb-a7e7-f4d73755daa2"
   },
   "outputs": [
    {
     "data": {
      "text/html": [
       "<div>\n",
       "<style scoped>\n",
       "    .dataframe tbody tr th:only-of-type {\n",
       "        vertical-align: middle;\n",
       "    }\n",
       "\n",
       "    .dataframe tbody tr th {\n",
       "        vertical-align: top;\n",
       "    }\n",
       "\n",
       "    .dataframe thead th {\n",
       "        text-align: right;\n",
       "    }\n",
       "</style>\n",
       "<table border=\"1\" class=\"dataframe\">\n",
       "  <thead>\n",
       "    <tr style=\"text-align: right;\">\n",
       "      <th></th>\n",
       "      <th>tweet</th>\n",
       "      <th>is_hate</th>\n",
       "    </tr>\n",
       "  </thead>\n",
       "  <tbody>\n",
       "    <tr>\n",
       "      <th>0</th>\n",
       "      <td>!!! RT @mayasolovely: As a woman you shouldn't...</td>\n",
       "      <td>0</td>\n",
       "    </tr>\n",
       "    <tr>\n",
       "      <th>1</th>\n",
       "      <td>!!!!! RT @mleew17: boy dats cold...tyga dwn ba...</td>\n",
       "      <td>0</td>\n",
       "    </tr>\n",
       "    <tr>\n",
       "      <th>2</th>\n",
       "      <td>!!!!!!! RT @UrKindOfBrand Dawg!!!! RT @80sbaby...</td>\n",
       "      <td>0</td>\n",
       "    </tr>\n",
       "    <tr>\n",
       "      <th>3</th>\n",
       "      <td>!!!!!!!!! RT @C_G_Anderson: @viva_based she lo...</td>\n",
       "      <td>0</td>\n",
       "    </tr>\n",
       "    <tr>\n",
       "      <th>4</th>\n",
       "      <td>!!!!!!!!!!!!! RT @ShenikaRoberts: The shit you...</td>\n",
       "      <td>0</td>\n",
       "    </tr>\n",
       "  </tbody>\n",
       "</table>\n",
       "</div>"
      ],
      "text/plain": [
       "                                               tweet  is_hate\n",
       "0  !!! RT @mayasolovely: As a woman you shouldn't...        0\n",
       "1  !!!!! RT @mleew17: boy dats cold...tyga dwn ba...        0\n",
       "2  !!!!!!! RT @UrKindOfBrand Dawg!!!! RT @80sbaby...        0\n",
       "3  !!!!!!!!! RT @C_G_Anderson: @viva_based she lo...        0\n",
       "4  !!!!!!!!!!!!! RT @ShenikaRoberts: The shit you...        0"
      ]
     },
     "execution_count": 23,
     "metadata": {},
     "output_type": "execute_result"
    }
   ],
   "source": [
    "# ectract the tweet and is_hate columns\n",
    "df5 = df5[[\"tweet\", \"is_hate\"]]\n",
    "\n",
    "df5.head()"
   ]
  },
  {
   "cell_type": "markdown",
   "id": "d40c3c71",
   "metadata": {
    "id": "d40c3c71"
   },
   "source": [
    "### Complete dataset\n",
    "\n",
    "Now that each of the datasets have been prepared, we will concat all of them together and do data preprocessing"
   ]
  },
  {
   "cell_type": "code",
   "execution_count": null,
   "id": "35c60486",
   "metadata": {
    "id": "35c60486",
    "outputId": "2e7d2c67-be53-4779-b2c0-ceefe9935e91"
   },
   "outputs": [
    {
     "data": {
      "text/html": [
       "<div>\n",
       "<style scoped>\n",
       "    .dataframe tbody tr th:only-of-type {\n",
       "        vertical-align: middle;\n",
       "    }\n",
       "\n",
       "    .dataframe tbody tr th {\n",
       "        vertical-align: top;\n",
       "    }\n",
       "\n",
       "    .dataframe thead th {\n",
       "        text-align: right;\n",
       "    }\n",
       "</style>\n",
       "<table border=\"1\" class=\"dataframe\">\n",
       "  <thead>\n",
       "    <tr style=\"text-align: right;\">\n",
       "      <th></th>\n",
       "      <th>tweet</th>\n",
       "      <th>is_hate</th>\n",
       "    </tr>\n",
       "  </thead>\n",
       "  <tbody>\n",
       "    <tr>\n",
       "      <th>0</th>\n",
       "      <td>As of March 13th , 2014 , the booklet had been...</td>\n",
       "      <td>0.0</td>\n",
       "    </tr>\n",
       "    <tr>\n",
       "      <th>1</th>\n",
       "      <td>Thank you in advance. : ) Download the youtube...</td>\n",
       "      <td>0.0</td>\n",
       "    </tr>\n",
       "    <tr>\n",
       "      <th>2</th>\n",
       "      <td>In order to help increase the booklets downloa...</td>\n",
       "      <td>0.0</td>\n",
       "    </tr>\n",
       "    <tr>\n",
       "      <th>3</th>\n",
       "      <td>( Simply copy and paste the following text int...</td>\n",
       "      <td>0.0</td>\n",
       "    </tr>\n",
       "    <tr>\n",
       "      <th>4</th>\n",
       "      <td>Click below for a FREE download of a colorfull...</td>\n",
       "      <td>1.0</td>\n",
       "    </tr>\n",
       "  </tbody>\n",
       "</table>\n",
       "</div>"
      ],
      "text/plain": [
       "                                               tweet is_hate\n",
       "0  As of March 13th , 2014 , the booklet had been...     0.0\n",
       "1  Thank you in advance. : ) Download the youtube...     0.0\n",
       "2  In order to help increase the booklets downloa...     0.0\n",
       "3  ( Simply copy and paste the following text int...     0.0\n",
       "4  Click below for a FREE download of a colorfull...     1.0"
      ]
     },
     "execution_count": 24,
     "metadata": {},
     "output_type": "execute_result"
    }
   ],
   "source": [
    "# concat df1, df2, df3, df4 and df5\n",
    "\n",
    "df = pd.concat([df1, df2, df3, df4, df5])\n",
    "\n",
    "df.head()"
   ]
  },
  {
   "cell_type": "code",
   "execution_count": null,
   "id": "95bc4055",
   "metadata": {
    "id": "95bc4055"
   },
   "outputs": [],
   "source": [
    "# Convert the labels to the same datatype\n",
    "df['is_hate'] = df['is_hate'].astype(float)"
   ]
  },
  {
   "cell_type": "code",
   "execution_count": null,
   "id": "52c46e14",
   "metadata": {
    "id": "52c46e14",
    "outputId": "d3ca43db-e650-4bb3-c362-cb56f1feb15d"
   },
   "outputs": [
    {
     "data": {
      "text/plain": [
       "array([ 0.,  1., nan])"
      ]
     },
     "execution_count": 26,
     "metadata": {},
     "output_type": "execute_result"
    }
   ],
   "source": [
    "df['is_hate'].unique()"
   ]
  },
  {
   "cell_type": "markdown",
   "id": "f2bda949",
   "metadata": {
    "id": "f2bda949"
   },
   "source": [
    "## Check for duplicate\n",
    "\n",
    "Since we gathered the data from different sources, there is possibility of overlap between them. To solve this problem, we check for duplicate entries and then drop them"
   ]
  },
  {
   "cell_type": "code",
   "execution_count": null,
   "id": "41aded09",
   "metadata": {
    "id": "41aded09",
    "outputId": "6ec521cc-1d15-4e0d-dc4f-bd88f777168b"
   },
   "outputs": [
    {
     "data": {
      "text/plain": [
       "26187"
      ]
     },
     "execution_count": 27,
     "metadata": {},
     "output_type": "execute_result"
    }
   ],
   "source": [
    "# check for duplicates\n",
    "df.duplicated().sum()"
   ]
  },
  {
   "cell_type": "code",
   "execution_count": null,
   "id": "6d311350",
   "metadata": {
    "id": "6d311350",
    "outputId": "2fd1c5e7-7ab0-4853-c769-678b74a60ff3"
   },
   "outputs": [
    {
     "data": {
      "text/plain": [
       "0"
      ]
     },
     "execution_count": 28,
     "metadata": {},
     "output_type": "execute_result"
    }
   ],
   "source": [
    "# Drop duplicate\n",
    "df.drop_duplicates(inplace = True)\n",
    "\n",
    "# confirm there is no duplicate again\n",
    "df.duplicated().sum()"
   ]
  },
  {
   "cell_type": "markdown",
   "id": "58143d1a",
   "metadata": {
    "id": "58143d1a"
   },
   "source": [
    "## Split to train test\n",
    "\n",
    "Entries with labels are for training while entries with no label are for testing. Therefore we will split our dataset into train and test base on their corresponding labels"
   ]
  },
  {
   "cell_type": "code",
   "execution_count": null,
   "id": "3eab59a6",
   "metadata": {
    "id": "3eab59a6"
   },
   "outputs": [],
   "source": [
    "# Extract Train dataset\n",
    "df_train = df[df['is_hate'].notnull()]"
   ]
  },
  {
   "cell_type": "code",
   "execution_count": null,
   "id": "f1a970d1",
   "metadata": {
    "id": "f1a970d1"
   },
   "outputs": [],
   "source": [
    "# extract test dataset\n",
    "df_test = df[df['is_hate'].isnull()]"
   ]
  },
  {
   "cell_type": "markdown",
   "id": "5cc170f1",
   "metadata": {
    "id": "5cc170f1"
   },
   "source": [
    "## Save clean dataset\n",
    "\n",
    "Now we will save the clean dataset"
   ]
  },
  {
   "cell_type": "code",
   "execution_count": null,
   "id": "010abd05",
   "metadata": {
    "id": "010abd05"
   },
   "outputs": [],
   "source": [
    "df_train.to_csv(\"dataset/clean_train.csv\", index = False)\n",
    "df_test.to_csv(\"dataset/clean_test.csv\", index = False)"
   ]
  },
  {
   "cell_type": "markdown",
   "id": "eRsP87xOYKdQ",
   "metadata": {
    "id": "eRsP87xOYKdQ"
   },
   "source": [
    "## Pre-processing/ EDA\n",
    "\n",
    "The purpose of this section is to understand and gain insights from the data before using it for modeling. It will help us understand the data better and identify quality issues, e.g., missing values and inconsistencies."
   ]
  },
  {
   "cell_type": "markdown",
   "id": "jOv_hnH4Xno2",
   "metadata": {
    "id": "jOv_hnH4Xno2"
   },
   "source": [
    "**Load the dataset** \\\n",
    "Here we load the cleaned data set so that we can start our preprocessing."
   ]
  },
  {
   "cell_type": "code",
   "execution_count": 2,
   "id": "_2bZ7VXsengM",
   "metadata": {
    "colab": {
     "base_uri": "https://localhost:8080/"
    },
    "id": "_2bZ7VXsengM",
    "outputId": "dd1363f5-3a45-4c9f-e35b-22c3dad802ba"
   },
   "outputs": [
    {
     "name": "stdout",
     "output_type": "stream",
     "text": [
      "Requirement already satisfied: rarfile in /usr/local/lib/python3.10/dist-packages (4.1)\n"
     ]
    }
   ],
   "source": [
    "pip install rarfile"
   ]
  },
  {
   "cell_type": "code",
   "execution_count": 4,
   "id": "53797f46",
   "metadata": {
    "id": "53797f46"
   },
   "outputs": [],
   "source": [
    "import rarfile"
   ]
  },
  {
   "cell_type": "code",
   "execution_count": 5,
   "id": "6a6b3cab",
   "metadata": {
    "id": "6a6b3cab"
   },
   "outputs": [],
   "source": [
    "rar_path = 'dataset.rar'\n",
    "\n",
    "# Open the .rar file\n",
    "with rarfile.RarFile(rar_path, 'r') as rf:\n",
    "    # Extract all files to the current directory\n",
    "    rf.extractall()"
   ]
  },
  {
   "cell_type": "code",
   "execution_count": 2,
   "id": "OQU1BBYiZFdn",
   "metadata": {
    "colab": {
     "base_uri": "https://localhost:8080/",
     "height": 363
    },
    "id": "OQU1BBYiZFdn",
    "outputId": "3f5b9bda-8def-4c20-d0c6-f56cea375e65"
   },
   "outputs": [
    {
     "data": {
      "text/html": [
       "<div>\n",
       "<style scoped>\n",
       "    .dataframe tbody tr th:only-of-type {\n",
       "        vertical-align: middle;\n",
       "    }\n",
       "\n",
       "    .dataframe tbody tr th {\n",
       "        vertical-align: top;\n",
       "    }\n",
       "\n",
       "    .dataframe thead th {\n",
       "        text-align: right;\n",
       "    }\n",
       "</style>\n",
       "<table border=\"1\" class=\"dataframe\">\n",
       "  <thead>\n",
       "    <tr style=\"text-align: right;\">\n",
       "      <th></th>\n",
       "      <th>tweet</th>\n",
       "      <th>is_hate</th>\n",
       "    </tr>\n",
       "  </thead>\n",
       "  <tbody>\n",
       "    <tr>\n",
       "      <th>0</th>\n",
       "      <td>As of March 13th , 2014 , the booklet had been...</td>\n",
       "      <td>0.0</td>\n",
       "    </tr>\n",
       "    <tr>\n",
       "      <th>1</th>\n",
       "      <td>Thank you in advance. : ) Download the youtube...</td>\n",
       "      <td>0.0</td>\n",
       "    </tr>\n",
       "    <tr>\n",
       "      <th>2</th>\n",
       "      <td>In order to help increase the booklets downloa...</td>\n",
       "      <td>0.0</td>\n",
       "    </tr>\n",
       "    <tr>\n",
       "      <th>3</th>\n",
       "      <td>( Simply copy and paste the following text int...</td>\n",
       "      <td>0.0</td>\n",
       "    </tr>\n",
       "    <tr>\n",
       "      <th>4</th>\n",
       "      <td>Click below for a FREE download of a colorfull...</td>\n",
       "      <td>1.0</td>\n",
       "    </tr>\n",
       "    <tr>\n",
       "      <th>5</th>\n",
       "      <td>Click on the `` DOWNLOAD ( 7.42 MB ) '' green ...</td>\n",
       "      <td>0.0</td>\n",
       "    </tr>\n",
       "    <tr>\n",
       "      <th>6</th>\n",
       "      <td>Booklet updated on Feb. 14th , 2014 .</td>\n",
       "      <td>0.0</td>\n",
       "    </tr>\n",
       "    <tr>\n",
       "      <th>7</th>\n",
       "      <td>( Now with over 18,300 Downloads. )</td>\n",
       "      <td>0.0</td>\n",
       "    </tr>\n",
       "    <tr>\n",
       "      <th>8</th>\n",
       "      <td>PDF file : http://www.mediafire.com/download/7...</td>\n",
       "      <td>0.0</td>\n",
       "    </tr>\n",
       "    <tr>\n",
       "      <th>9</th>\n",
       "      <td>Then why not simply copy this text ( &amp; links )...</td>\n",
       "      <td>0.0</td>\n",
       "    </tr>\n",
       "  </tbody>\n",
       "</table>\n",
       "</div>"
      ],
      "text/plain": [
       "                                               tweet  is_hate\n",
       "0  As of March 13th , 2014 , the booklet had been...      0.0\n",
       "1  Thank you in advance. : ) Download the youtube...      0.0\n",
       "2  In order to help increase the booklets downloa...      0.0\n",
       "3  ( Simply copy and paste the following text int...      0.0\n",
       "4  Click below for a FREE download of a colorfull...      1.0\n",
       "5  Click on the `` DOWNLOAD ( 7.42 MB ) '' green ...      0.0\n",
       "6              Booklet updated on Feb. 14th , 2014 .      0.0\n",
       "7                ( Now with over 18,300 Downloads. )      0.0\n",
       "8  PDF file : http://www.mediafire.com/download/7...      0.0\n",
       "9  Then why not simply copy this text ( & links )...      0.0"
      ]
     },
     "execution_count": 2,
     "metadata": {},
     "output_type": "execute_result"
    }
   ],
   "source": [
    "# Load the train dataset into a DataFrame\n",
    "train_df = pd.read_csv('dataset/clean_train.csv')\n",
    "\n",
    "# View the head of the train dataset\n",
    "train_df.head(10)"
   ]
  },
  {
   "cell_type": "code",
   "execution_count": 3,
   "id": "oc1JcCakbZc8",
   "metadata": {
    "colab": {
     "base_uri": "https://localhost:8080/",
     "height": 206
    },
    "id": "oc1JcCakbZc8",
    "outputId": "874fb4d6-1af9-48aa-a4f0-1980682b509c"
   },
   "outputs": [
    {
     "data": {
      "text/html": [
       "<div>\n",
       "<style scoped>\n",
       "    .dataframe tbody tr th:only-of-type {\n",
       "        vertical-align: middle;\n",
       "    }\n",
       "\n",
       "    .dataframe tbody tr th {\n",
       "        vertical-align: top;\n",
       "    }\n",
       "\n",
       "    .dataframe thead th {\n",
       "        text-align: right;\n",
       "    }\n",
       "</style>\n",
       "<table border=\"1\" class=\"dataframe\">\n",
       "  <thead>\n",
       "    <tr style=\"text-align: right;\">\n",
       "      <th></th>\n",
       "      <th>tweet</th>\n",
       "      <th>is_hate</th>\n",
       "    </tr>\n",
       "  </thead>\n",
       "  <tbody>\n",
       "    <tr>\n",
       "      <th>0</th>\n",
       "      <td>A becsület napjás videó nagyon tuti , mindig a...</td>\n",
       "      <td>NaN</td>\n",
       "    </tr>\n",
       "    <tr>\n",
       "      <th>1</th>\n",
       "      <td>Egyet se ismerek .</td>\n",
       "      <td>NaN</td>\n",
       "    </tr>\n",
       "    <tr>\n",
       "      <th>2</th>\n",
       "      <td>Fogalmam sincs hogy mennyi lehet itt .</td>\n",
       "      <td>NaN</td>\n",
       "    </tr>\n",
       "    <tr>\n",
       "      <th>3</th>\n",
       "      <td>Itt a legtobb Kanadai anti-rasszista , aki meg...</td>\n",
       "      <td>NaN</td>\n",
       "    </tr>\n",
       "    <tr>\n",
       "      <th>4</th>\n",
       "      <td>A feher embernek nincs jovoje Kanadaba , az bi...</td>\n",
       "      <td>NaN</td>\n",
       "    </tr>\n",
       "  </tbody>\n",
       "</table>\n",
       "</div>"
      ],
      "text/plain": [
       "                                               tweet  is_hate\n",
       "0  A becsület napjás videó nagyon tuti , mindig a...      NaN\n",
       "1                                 Egyet se ismerek .      NaN\n",
       "2             Fogalmam sincs hogy mennyi lehet itt .      NaN\n",
       "3  Itt a legtobb Kanadai anti-rasszista , aki meg...      NaN\n",
       "4  A feher embernek nincs jovoje Kanadaba , az bi...      NaN"
      ]
     },
     "execution_count": 3,
     "metadata": {},
     "output_type": "execute_result"
    }
   ],
   "source": [
    "#load and view the head of the test dataset\n",
    "test_df = pd.read_csv('dataset/clean_test.csv')\n",
    "test_df.head()"
   ]
  },
  {
   "cell_type": "code",
   "execution_count": 4,
   "id": "y-hkhiJeaKSz",
   "metadata": {
    "colab": {
     "base_uri": "https://localhost:8080/"
    },
    "id": "y-hkhiJeaKSz",
    "outputId": "96a9bdb4-298e-470f-e3d7-62bf77e016a9"
   },
   "outputs": [
    {
     "name": "stdout",
     "output_type": "stream",
     "text": [
      "The shape of the train dataset: (531315, 2)\n",
      "The shape of the test dataset: (16359, 2)\n"
     ]
    }
   ],
   "source": [
    "print(f'The shape of the train dataset: {train_df.shape}')\n",
    "print(f'The shape of the test dataset: {test_df.shape}')"
   ]
  },
  {
   "cell_type": "code",
   "execution_count": 5,
   "id": "RZ_P1dO7dvA0",
   "metadata": {
    "colab": {
     "base_uri": "https://localhost:8080/",
     "height": 156
    },
    "id": "RZ_P1dO7dvA0",
    "outputId": "06407fab-e9bd-4fb3-fea7-d271679a0e1a"
   },
   "outputs": [
    {
     "name": "stdout",
     "output_type": "stream",
     "text": [
      "train dataset\n"
     ]
    },
    {
     "data": {
      "text/plain": [
       "tweet      0\n",
       "is_hate    0\n",
       "dtype: int64"
      ]
     },
     "metadata": {},
     "output_type": "display_data"
    },
    {
     "name": "stdout",
     "output_type": "stream",
     "text": [
      "test dataset\n"
     ]
    },
    {
     "data": {
      "text/plain": [
       "tweet          0\n",
       "is_hate    16359\n",
       "dtype: int64"
      ]
     },
     "metadata": {},
     "output_type": "display_data"
    }
   ],
   "source": [
    "print(\"train dataset\")\n",
    "display(train_df.isnull().sum())\n",
    "\n",
    "print(\"test dataset\")\n",
    "display(test_df.isnull().sum())"
   ]
  },
  {
   "cell_type": "markdown",
   "id": "QXokPN7sgx5v",
   "metadata": {
    "id": "QXokPN7sgx5v"
   },
   "source": [
    "The train dataset has 531315 rows and two columns while the test dataset has 16359 rows and 2 columns. However, the second column of the test datasets has null values since it does not have labels as expected."
   ]
  },
  {
   "cell_type": "code",
   "execution_count": 6,
   "id": "W9NUEITQaxAs",
   "metadata": {
    "colab": {
     "base_uri": "https://localhost:8080/"
    },
    "id": "W9NUEITQaxAs",
    "outputId": "377d0529-681d-49ad-c6d0-da3c54e37728"
   },
   "outputs": [
    {
     "data": {
      "text/plain": [
       "array([0., 1.])"
      ]
     },
     "execution_count": 6,
     "metadata": {},
     "output_type": "execute_result"
    }
   ],
   "source": [
    "#check the unique labels\n",
    "train_df['is_hate'].unique()"
   ]
  },
  {
   "cell_type": "markdown",
   "id": "HVObNyNmjZqR",
   "metadata": {
    "id": "HVObNyNmjZqR"
   },
   "source": [
    "The dataset has two unique values 0 and 1 in the 'is_hate' column which are defined as follows; \\\n",
    "**0**: denotes text that has been classified as non-hate speech \\\n",
    "**1**: denotes a text that has been classified as hate speech\n"
   ]
  },
  {
   "cell_type": "markdown",
   "id": "kj5ac0n3oJta",
   "metadata": {
    "id": "kj5ac0n3oJta"
   },
   "source": [
    "## Distribution of the Labels\n",
    "*  Below are a Bar Plot and a Pie Chart to illustrate the count of texts under each label in the train dataset.\n"
   ]
  },
  {
   "cell_type": "code",
   "execution_count": null,
   "id": "U4UwtWuwvQ6j",
   "metadata": {
    "colab": {
     "base_uri": "https://localhost:8080/",
     "height": 367
    },
    "id": "U4UwtWuwvQ6j",
    "outputId": "9968106c-8c58-4fc0-b093-269a0ee8cf84"
   },
   "outputs": [
    {
     "name": "stderr",
     "output_type": "stream",
     "text": [
      "C:\\Users\\hp\\anaconda3\\envs\\classification\\Lib\\site-packages\\seaborn\\_oldcore.py:1498: FutureWarning: is_categorical_dtype is deprecated and will be removed in a future version. Use isinstance(dtype, CategoricalDtype) instead\n",
      "  if pd.api.types.is_categorical_dtype(vector):\n",
      "C:\\Users\\hp\\anaconda3\\envs\\classification\\Lib\\site-packages\\seaborn\\_oldcore.py:1498: FutureWarning: is_categorical_dtype is deprecated and will be removed in a future version. Use isinstance(dtype, CategoricalDtype) instead\n",
      "  if pd.api.types.is_categorical_dtype(vector):\n",
      "C:\\Users\\hp\\anaconda3\\envs\\classification\\Lib\\site-packages\\seaborn\\_oldcore.py:1498: FutureWarning: is_categorical_dtype is deprecated and will be removed in a future version. Use isinstance(dtype, CategoricalDtype) instead\n",
      "  if pd.api.types.is_categorical_dtype(vector):\n",
      "C:\\Users\\hp\\anaconda3\\envs\\classification\\Lib\\site-packages\\seaborn\\_oldcore.py:1498: FutureWarning: is_categorical_dtype is deprecated and will be removed in a future version. Use isinstance(dtype, CategoricalDtype) instead\n",
      "  if pd.api.types.is_categorical_dtype(vector):\n"
     ]
    },
    {
     "data": {
      "image/png": "[encoded data removed]",
      "text/plain": [
       "<Figure size 1500x500 with 2 Axes>"
      ]
     },
     "metadata": {},
     "output_type": "display_data"
    }
   ],
   "source": [
    "# Count the number of occurrences of each unique label\n",
    "label_counts = train_df['is_hate'].value_counts()\n",
    "\n",
    "# Rename labels\n",
    "label_mapping = {1: 'Hate-Speech', 0: 'Not-Hate-Speech'}\n",
    "\n",
    "# Set up the subplots\n",
    "fig, axes = plt.subplots(1, 2, figsize=(15, 5))\n",
    "\n",
    "# Bar plot\n",
    "sns.countplot(x='is_hate', data=train_df, palette='pastel', ax=axes[0], hue=train_df['is_hate'].map(label_mapping))\n",
    "axes[0].set_title('Label Distribution')\n",
    "axes[0].set_xlabel('Label')\n",
    "axes[0].set_ylabel('Count')\n",
    "\n",
    "# Add labels to bars\n",
    "for index, value in enumerate(label_counts):\n",
    "    axes[0].text(index, value, str(value), ha='center', va='bottom')\n",
    "\n",
    "# Pie chart\n",
    "axes[1].pie(label_counts, labels=label_counts.index.map(label_mapping), autopct='%1.1f%%', colors=sns.color_palette('pastel'), startangle=140)\n",
    "axes[1].set_title('Label Distribution')\n",
    "\n",
    "# Equal aspect ratio ensures that pie is drawn as a circle.\n",
    "axes[1].axis('equal')\n",
    "\n",
    "plt.show()\n"
   ]
  },
  {
   "cell_type": "markdown",
   "id": "ed1Qu2sqwZq1",
   "metadata": {
    "id": "ed1Qu2sqwZq1"
   },
   "source": [
    "##Wordcloud\n",
    "Visualising the texts to see the most frequent used words in relation to hate speech"
   ]
  },
  {
   "cell_type": "code",
   "execution_count": null,
   "id": "1NW-RFe2xOYF",
   "metadata": {
    "id": "1NW-RFe2xOYF"
   },
   "outputs": [],
   "source": [
    "from wordcloud import WordCloud"
   ]
  },
  {
   "cell_type": "code",
   "execution_count": null,
   "id": "kvdhjg9Wv9fS",
   "metadata": {
    "colab": {
     "base_uri": "https://localhost:8080/",
     "height": 230
    },
    "id": "kvdhjg9Wv9fS",
    "outputId": "7db1bcbd-0ef8-4814-80c4-76bc67618d45"
   },
   "outputs": [
    {
     "data": {
      "image/png": "[encoded data removed]",
      "text/plain": [
       "<Figure size 500x500 with 1 Axes>"
      ]
     },
     "metadata": {},
     "output_type": "display_data"
    }
   ],
   "source": [
    "full_text = \" \".join(train_df['tweet'])\n",
    "wc = WordCloud(background_color='white')\n",
    "img = wc.generate(full_text)\n",
    "plt.figure(figsize= (5,5))\n",
    "plt.imshow(img)\n",
    "plt.axis('off')\n",
    "plt.show()"
   ]
  },
  {
   "cell_type": "markdown",
   "id": "lWBbeCsoyVMD",
   "metadata": {
    "id": "lWBbeCsoyVMD"
   },
   "source": [
    "**Tweet WordCloud for Each Classification of Tweets**"
   ]
  },
  {
   "cell_type": "code",
   "execution_count": null,
   "id": "xVcVYFWW5gR_",
   "metadata": {
    "colab": {
     "base_uri": "https://localhost:8080/",
     "height": 285
    },
    "id": "xVcVYFWW5gR_",
    "outputId": "c445ee8b-b9d9-4b5a-c2b1-a5634fe27fa1"
   },
   "outputs": [
    {
     "data": {
      "image/png": "[encoded data removed]",
      "text/plain": [
       "<Figure size 1000x500 with 2 Axes>"
      ]
     },
     "metadata": {},
     "output_type": "display_data"
    }
   ],
   "source": [
    "# First word cloud\n",
    "class_df = train_df.groupby('is_hate')\n",
    "hate_speech = \"\".join(class_df.get_group(1.0)['tweet'])\n",
    "wc1 = WordCloud(background_color='black')\n",
    "img1 = wc1.generate(hate_speech)\n",
    "plt.figure(figsize=(10, 5))  # Adjust the figure size as needed\n",
    "plt.subplot(1, 2, 1)  # Subplot 1\n",
    "plt.imshow(img1)\n",
    "plt.axis('off')\n",
    "plt.title('Hate Speech', fontsize=14)\n",
    "\n",
    "# Second word cloud\n",
    "no_hate_speech = \"\".join(class_df.get_group(0.0)['tweet'])\n",
    "wc2 = WordCloud(background_color='pink')\n",
    "img2 = wc2.generate(no_hate_speech)\n",
    "plt.subplot(1, 2, 2)  # Subplot 2\n",
    "plt.imshow(img2)\n",
    "plt.axis('off')\n",
    "plt.title('No Hate Speech', fontsize=14)\n",
    "\n",
    "plt.tight_layout()  # Adjust spacing between subplots\n",
    "plt.show()\n"
   ]
  },
  {
   "cell_type": "markdown",
   "id": "81565e31",
   "metadata": {
    "id": "81565e31"
   },
   "source": [
    "From the wordcloud above, it is observed that offensive words or slangs like **slut, fucking, shit, bitch, faggot, black, racist, and suck** are commonly used unlike the nonhate speech category. Now, we will clean the text using the outline below:"
   ]
  },
  {
   "cell_type": "markdown",
   "id": "iVhaESPz9P6B",
   "metadata": {
    "id": "iVhaESPz9P6B"
   },
   "source": [
    "## **Text Cleaning**:\n",
    "In this section, we will perform the following:\n",
    "* remove any unnecessary characters or formatting from the text data, such as punctuation marks, stopwords, and URLs.\n",
    "* Put all text in lowercase\n",
    "* Stemming\n",
    "* Downsampling or upsampling the dataset."
   ]
  },
  {
   "cell_type": "markdown",
   "id": "KwpNtCsCbiYz",
   "metadata": {
    "id": "KwpNtCsCbiYz"
   },
   "source": [
    "### Removing URLs"
   ]
  },
  {
   "cell_type": "code",
   "execution_count": 7,
   "id": "Kvum8ehTBXJ7",
   "metadata": {
    "colab": {
     "base_uri": "https://localhost:8080/"
    },
    "id": "Kvum8ehTBXJ7",
    "outputId": "115d0103-e598-49ec-b093-cef20417b79a"
   },
   "outputs": [
    {
     "name": "stdout",
     "output_type": "stream",
     "text": [
      "                                                    tweet  is_hate\n",
      "1       Thank you in advance. : ) Download the youtube...      0.0\n",
      "8       PDF file : http://www.mediafire.com/download/7...      0.0\n",
      "14      PDF file : http://www.mediafire.com/download/4...      0.0\n",
      "15      Thank you in advance. : ) Download the youtube...      0.0\n",
      "188     It can be read online here : http://www.rastko...      0.0\n",
      "...                                                   ...      ...\n",
      "531216  when you first walked in the door at that part...      0.0\n",
      "531258  wth is that playing missy? ........ i mean ser...      0.0\n",
      "531276    yeah I'm small den a hoe http://t.co/VV3qdTo7MG      0.0\n",
      "531298  you gotta be a new breed of retarded if you do...      0.0\n",
      "531314  ~~Ruffled | Ntac Eileen Dahlia - Beautiful col...      0.0\n",
      "\n",
      "[3195 rows x 2 columns]\n"
     ]
    }
   ],
   "source": [
    "train_copy = train_df.copy()\n",
    "# Function to check for URLs in a given text\n",
    "def contains_url(text):\n",
    "    url_pattern = r'https?://\\S+'\n",
    "    return bool(re.search(url_pattern, text))\n",
    "\n",
    "# Apply the function to each row of the 'tweet' column\n",
    "train_copy['contains_url'] = train_copy['tweet'].apply(contains_url)\n",
    "\n",
    "# Filter rows where URL is present\n",
    "tweets_with_url = train_copy[train_copy['contains_url'] == True]\n",
    "\n",
    "# Display the tweets with URLs\n",
    "print(tweets_with_url[['tweet', 'is_hate']])\n"
   ]
  },
  {
   "cell_type": "markdown",
   "id": "xp4BoEfaDCSv",
   "metadata": {
    "id": "xp4BoEfaDCSv"
   },
   "source": [
    "The dataset contains URLS. These URLs wil be replaced with a placeholder string (\"url\") to preserve the structure of the text while removing potentially irrelevant information."
   ]
  },
  {
   "cell_type": "code",
   "execution_count": 8,
   "id": "IO2ItGnPFaoX",
   "metadata": {
    "colab": {
     "base_uri": "https://localhost:8080/",
     "height": 206
    },
    "id": "IO2ItGnPFaoX",
    "outputId": "b2988a68-a34b-487c-adbc-78c7a355a839"
   },
   "outputs": [
    {
     "data": {
      "application/vnd.google.colaboratory.intrinsic+json": {
       "type": "dataframe",
       "variable_name": "train_copy"
      },
      "text/html": [
       "\n",
       "  <div id=\"df-8b1484cc-1ec3-4ce0-b6ce-2a7cab4e9be1\" class=\"colab-df-container\">\n",
       "    <div>\n",
       "<style scoped>\n",
       "    .dataframe tbody tr th:only-of-type {\n",
       "        vertical-align: middle;\n",
       "    }\n",
       "\n",
       "    .dataframe tbody tr th {\n",
       "        vertical-align: top;\n",
       "    }\n",
       "\n",
       "    .dataframe thead th {\n",
       "        text-align: right;\n",
       "    }\n",
       "</style>\n",
       "<table border=\"1\" class=\"dataframe\">\n",
       "  <thead>\n",
       "    <tr style=\"text-align: right;\">\n",
       "      <th></th>\n",
       "      <th>tweet</th>\n",
       "      <th>is_hate</th>\n",
       "      <th>contains_url</th>\n",
       "    </tr>\n",
       "  </thead>\n",
       "  <tbody>\n",
       "    <tr>\n",
       "      <th>0</th>\n",
       "      <td>As of March 13th , 2014 , the booklet had been...</td>\n",
       "      <td>0.0</td>\n",
       "      <td>False</td>\n",
       "    </tr>\n",
       "    <tr>\n",
       "      <th>1</th>\n",
       "      <td>Thank you in advance. : ) Download the youtube...</td>\n",
       "      <td>0.0</td>\n",
       "      <td>True</td>\n",
       "    </tr>\n",
       "    <tr>\n",
       "      <th>2</th>\n",
       "      <td>In order to help increase the booklets downloa...</td>\n",
       "      <td>0.0</td>\n",
       "      <td>False</td>\n",
       "    </tr>\n",
       "    <tr>\n",
       "      <th>3</th>\n",
       "      <td>( Simply copy and paste the following text int...</td>\n",
       "      <td>0.0</td>\n",
       "      <td>False</td>\n",
       "    </tr>\n",
       "    <tr>\n",
       "      <th>4</th>\n",
       "      <td>Click below for a FREE download of a colorfull...</td>\n",
       "      <td>1.0</td>\n",
       "      <td>False</td>\n",
       "    </tr>\n",
       "  </tbody>\n",
       "</table>\n",
       "</div>\n",
       "    <div class=\"colab-df-buttons\">\n",
       "\n",
       "  <div class=\"colab-df-container\">\n",
       "    <button class=\"colab-df-convert\" onclick=\"convertToInteractive('df-8b1484cc-1ec3-4ce0-b6ce-2a7cab4e9be1')\"\n",
       "            title=\"Convert this dataframe to an interactive table.\"\n",
       "            style=\"display:none;\">\n",
       "\n",
       "  <svg xmlns=\"http://www.w3.org/2000/svg\" height=\"24px\" viewBox=\"0 -960 960 960\">\n",
       "    <path d=\"M120-120v-720h720v720H120Zm60-500h600v-160H180v160Zm220 220h160v-160H400v160Zm0 220h160v-160H400v160ZM180-400h160v-160H180v160Zm440 0h160v-160H620v160ZM180-180h160v-160H180v160Zm440 0h160v-160H620v160Z\"/>\n",
       "  </svg>\n",
       "    </button>\n",
       "\n",
       "  <style>\n",
       "    .colab-df-container {\n",
       "      display:flex;\n",
       "      gap: 12px;\n",
       "    }\n",
       "\n",
       "    .colab-df-convert {\n",
       "      background-color: #E8F0FE;\n",
       "      border: none;\n",
       "      border-radius: 50%;\n",
       "      cursor: pointer;\n",
       "      display: none;\n",
       "      fill: #1967D2;\n",
       "      height: 32px;\n",
       "      padding: 0 0 0 0;\n",
       "      width: 32px;\n",
       "    }\n",
       "\n",
       "    .colab-df-convert:hover {\n",
       "      background-color: #E2EBFA;\n",
       "      box-shadow: 0px 1px 2px rgba(60, 64, 67, 0.3), 0px 1px 3px 1px rgba(60, 64, 67, 0.15);\n",
       "      fill: #174EA6;\n",
       "    }\n",
       "\n",
       "    .colab-df-buttons div {\n",
       "      margin-bottom: 4px;\n",
       "    }\n",
       "\n",
       "    [theme=dark] .colab-df-convert {\n",
       "      background-color: #3B4455;\n",
       "      fill: #D2E3FC;\n",
       "    }\n",
       "\n",
       "    [theme=dark] .colab-df-convert:hover {\n",
       "      background-color: #434B5C;\n",
       "      box-shadow: 0px 1px 3px 1px rgba(0, 0, 0, 0.15);\n",
       "      filter: drop-shadow(0px 1px 2px rgba(0, 0, 0, 0.3));\n",
       "      fill: #FFFFFF;\n",
       "    }\n",
       "  </style>\n",
       "\n",
       "    <script>\n",
       "      const buttonEl =\n",
       "        document.querySelector('#df-8b1484cc-1ec3-4ce0-b6ce-2a7cab4e9be1 button.colab-df-convert');\n",
       "      buttonEl.style.display =\n",
       "        google.colab.kernel.accessAllowed ? 'block' : 'none';\n",
       "\n",
       "      async function convertToInteractive(key) {\n",
       "        const element = document.querySelector('#df-8b1484cc-1ec3-4ce0-b6ce-2a7cab4e9be1');\n",
       "        const dataTable =\n",
       "          await google.colab.kernel.invokeFunction('convertToInteractive',\n",
       "                                                    [key], {});\n",
       "        if (!dataTable) return;\n",
       "\n",
       "        const docLinkHtml = 'Like what you see? Visit the ' +\n",
       "          '<a target=\"_blank\" href=https://colab.research.google.com/notebooks/data_table.ipynb>data table notebook</a>'\n",
       "          + ' to learn more about interactive tables.';\n",
       "        element.innerHTML = '';\n",
       "        dataTable['output_type'] = 'display_data';\n",
       "        await google.colab.output.renderOutput(dataTable, element);\n",
       "        const docLink = document.createElement('div');\n",
       "        docLink.innerHTML = docLinkHtml;\n",
       "        element.appendChild(docLink);\n",
       "      }\n",
       "    </script>\n",
       "  </div>\n",
       "\n",
       "\n",
       "<div id=\"df-011971c5-5510-48c9-80c8-d963177b4942\">\n",
       "  <button class=\"colab-df-quickchart\" onclick=\"quickchart('df-011971c5-5510-48c9-80c8-d963177b4942')\"\n",
       "            title=\"Suggest charts\"\n",
       "            style=\"display:none;\">\n",
       "\n",
       "<svg xmlns=\"http://www.w3.org/2000/svg\" height=\"24px\"viewBox=\"0 0 24 24\"\n",
       "     width=\"24px\">\n",
       "    <g>\n",
       "        <path d=\"M19 3H5c-1.1 0-2 .9-2 2v14c0 1.1.9 2 2 2h14c1.1 0 2-.9 2-2V5c0-1.1-.9-2-2-2zM9 17H7v-7h2v7zm4 0h-2V7h2v10zm4 0h-2v-4h2v4z\"/>\n",
       "    </g>\n",
       "</svg>\n",
       "  </button>\n",
       "\n",
       "<style>\n",
       "  .colab-df-quickchart {\n",
       "      --bg-color: #E8F0FE;\n",
       "      --fill-color: #1967D2;\n",
       "      --hover-bg-color: #E2EBFA;\n",
       "      --hover-fill-color: #174EA6;\n",
       "      --disabled-fill-color: #AAA;\n",
       "      --disabled-bg-color: #DDD;\n",
       "  }\n",
       "\n",
       "  [theme=dark] .colab-df-quickchart {\n",
       "      --bg-color: #3B4455;\n",
       "      --fill-color: #D2E3FC;\n",
       "      --hover-bg-color: #434B5C;\n",
       "      --hover-fill-color: #FFFFFF;\n",
       "      --disabled-bg-color: #3B4455;\n",
       "      --disabled-fill-color: #666;\n",
       "  }\n",
       "\n",
       "  .colab-df-quickchart {\n",
       "    background-color: var(--bg-color);\n",
       "    border: none;\n",
       "    border-radius: 50%;\n",
       "    cursor: pointer;\n",
       "    display: none;\n",
       "    fill: var(--fill-color);\n",
       "    height: 32px;\n",
       "    padding: 0;\n",
       "    width: 32px;\n",
       "  }\n",
       "\n",
       "  .colab-df-quickchart:hover {\n",
       "    background-color: var(--hover-bg-color);\n",
       "    box-shadow: 0 1px 2px rgba(60, 64, 67, 0.3), 0 1px 3px 1px rgba(60, 64, 67, 0.15);\n",
       "    fill: var(--button-hover-fill-color);\n",
       "  }\n",
       "\n",
       "  .colab-df-quickchart-complete:disabled,\n",
       "  .colab-df-quickchart-complete:disabled:hover {\n",
       "    background-color: var(--disabled-bg-color);\n",
       "    fill: var(--disabled-fill-color);\n",
       "    box-shadow: none;\n",
       "  }\n",
       "\n",
       "  .colab-df-spinner {\n",
       "    border: 2px solid var(--fill-color);\n",
       "    border-color: transparent;\n",
       "    border-bottom-color: var(--fill-color);\n",
       "    animation:\n",
       "      spin 1s steps(1) infinite;\n",
       "  }\n",
       "\n",
       "  @keyframes spin {\n",
       "    0% {\n",
       "      border-color: transparent;\n",
       "      border-bottom-color: var(--fill-color);\n",
       "      border-left-color: var(--fill-color);\n",
       "    }\n",
       "    20% {\n",
       "      border-color: transparent;\n",
       "      border-left-color: var(--fill-color);\n",
       "      border-top-color: var(--fill-color);\n",
       "    }\n",
       "    30% {\n",
       "      border-color: transparent;\n",
       "      border-left-color: var(--fill-color);\n",
       "      border-top-color: var(--fill-color);\n",
       "      border-right-color: var(--fill-color);\n",
       "    }\n",
       "    40% {\n",
       "      border-color: transparent;\n",
       "      border-right-color: var(--fill-color);\n",
       "      border-top-color: var(--fill-color);\n",
       "    }\n",
       "    60% {\n",
       "      border-color: transparent;\n",
       "      border-right-color: var(--fill-color);\n",
       "    }\n",
       "    80% {\n",
       "      border-color: transparent;\n",
       "      border-right-color: var(--fill-color);\n",
       "      border-bottom-color: var(--fill-color);\n",
       "    }\n",
       "    90% {\n",
       "      border-color: transparent;\n",
       "      border-bottom-color: var(--fill-color);\n",
       "    }\n",
       "  }\n",
       "</style>\n",
       "\n",
       "  <script>\n",
       "    async function quickchart(key) {\n",
       "      const quickchartButtonEl =\n",
       "        document.querySelector('#' + key + ' button');\n",
       "      quickchartButtonEl.disabled = true;  // To prevent multiple clicks.\n",
       "      quickchartButtonEl.classList.add('colab-df-spinner');\n",
       "      try {\n",
       "        const charts = await google.colab.kernel.invokeFunction(\n",
       "            'suggestCharts', [key], {});\n",
       "      } catch (error) {\n",
       "        console.error('Error during call to suggestCharts:', error);\n",
       "      }\n",
       "      quickchartButtonEl.classList.remove('colab-df-spinner');\n",
       "      quickchartButtonEl.classList.add('colab-df-quickchart-complete');\n",
       "    }\n",
       "    (() => {\n",
       "      let quickchartButtonEl =\n",
       "        document.querySelector('#df-011971c5-5510-48c9-80c8-d963177b4942 button');\n",
       "      quickchartButtonEl.style.display =\n",
       "        google.colab.kernel.accessAllowed ? 'block' : 'none';\n",
       "    })();\n",
       "  </script>\n",
       "</div>\n",
       "\n",
       "    </div>\n",
       "  </div>\n"
      ],
      "text/plain": [
       "                                               tweet  is_hate  contains_url\n",
       "0  As of March 13th , 2014 , the booklet had been...      0.0         False\n",
       "1  Thank you in advance. : ) Download the youtube...      0.0          True\n",
       "2  In order to help increase the booklets downloa...      0.0         False\n",
       "3  ( Simply copy and paste the following text int...      0.0         False\n",
       "4  Click below for a FREE download of a colorfull...      1.0         False"
      ]
     },
     "execution_count": 8,
     "metadata": {},
     "output_type": "execute_result"
    }
   ],
   "source": [
    "train_copy.head()"
   ]
  },
  {
   "cell_type": "code",
   "execution_count": 9,
   "id": "qTJKifj1HwnU",
   "metadata": {
    "colab": {
     "base_uri": "https://localhost:8080/"
    },
    "id": "qTJKifj1HwnU",
    "outputId": "064a579d-49ef-4d2d-fd84-d08238f2f3c8"
   },
   "outputs": [
    {
     "name": "stdout",
     "output_type": "stream",
     "text": [
      "                                               tweet  is_hate\n",
      "0  As of March 13th , 2014 , the booklet had been...      0.0\n",
      "1  Thank you in advance. : ) Download the youtube...      0.0\n",
      "2  In order to help increase the booklets downloa...      0.0\n",
      "3  ( Simply copy and paste the following text int...      0.0\n",
      "4  Click below for a FREE download of a colorfull...      1.0\n"
     ]
    }
   ],
   "source": [
    "# Drop the 'contains_url' column from the DataFrame\n",
    "train_copy.drop(columns=['contains_url'], inplace=True)\n",
    "\n",
    "# Display the updated DataFrame\n",
    "print(train_copy.head())"
   ]
  },
  {
   "cell_type": "code",
   "execution_count": 6,
   "id": "sHPdcvvoGRig",
   "metadata": {
    "colab": {
     "base_uri": "https://localhost:8080/"
    },
    "id": "sHPdcvvoGRig",
    "outputId": "b6a4d34c-b000-489f-a4ac-47975d7b8a20"
   },
   "outputs": [
    {
     "name": "stdout",
     "output_type": "stream",
     "text": [
      "                                               tweet  is_hate\n",
      "0  As of March 13th , 2014 , the booklet had been...      0.0\n",
      "1  Thank you in advance. : ) Download the youtube...      0.0\n",
      "2  In order to help increase the booklets downloa...      0.0\n",
      "3  ( Simply copy and paste the following text int...      0.0\n",
      "4  Click below for a FREE download of a colorfull...      1.0\n"
     ]
    }
   ],
   "source": [
    "# Function to replace URLs with 'url' placeholder\n",
    "def replace_urls(text):\n",
    "    url_pattern = r'https?://\\S+'\n",
    "    return re.sub(url_pattern, 'url', text)\n",
    "\n",
    "# Replace URLs in the 'tweet' column of the DataFrame\n",
    "train_copy['tweet'] = train_copy['tweet'].apply(replace_urls)\n",
    "\n",
    "# Display the updated DataFrame\n",
    "print(train_copy.head())\n"
   ]
  },
  {
   "cell_type": "code",
   "execution_count": 11,
   "id": "7c013ae3",
   "metadata": {
    "colab": {
     "base_uri": "https://localhost:8080/",
     "height": 70
    },
    "id": "7c013ae3",
    "outputId": "3fde2f2b-181b-4a9b-bd75-03dec0eab031"
   },
   "outputs": [
    {
     "data": {
      "application/vnd.google.colaboratory.intrinsic+json": {
       "type": "string"
      },
      "text/plain": [
       "\"PDF file : url _ 2-14-14.docx Watch the 10 hour video version of `` The Zionist Attack on Western Civilization '' @ url _ White _ YT _ Comment _ ( Hyperlinked ) .txt url ( Hyperlinked-Back-Up % 5D.txt url ? v = _ 8hg254ALpM Are you interested in helping spread the booklet download link across the world ?\""
      ]
     },
     "execution_count": 11,
     "metadata": {},
     "output_type": "execute_result"
    }
   ],
   "source": [
    "# confirm the links are removed\n",
    "train_copy['tweet'][8]"
   ]
  },
  {
   "cell_type": "markdown",
   "id": "387_b8u9I8-d",
   "metadata": {
    "id": "387_b8u9I8-d"
   },
   "source": [
    "### Removing stopwords, punctuations, and converting all text to lowercase"
   ]
  },
  {
   "cell_type": "code",
   "execution_count": 9,
   "id": "msIsd9bvIVMq",
   "metadata": {
    "colab": {
     "base_uri": "https://localhost:8080/"
    },
    "id": "msIsd9bvIVMq",
    "outputId": "95ad1336-2c00-4dff-a9e4-f409c1d65b80"
   },
   "outputs": [
    {
     "name": "stderr",
     "output_type": "stream",
     "text": [
      "[nltk_data] Downloading package stopwords to\n",
      "[nltk_data]     C:\\Users\\hp\\AppData\\Roaming\\nltk_data...\n",
      "[nltk_data]   Package stopwords is already up-to-date!\n"
     ]
    },
    {
     "name": "stdout",
     "output_type": "stream",
     "text": [
      "                                               tweet  is_hate\n",
      "0         march th booklet downloaded times counting      0.0\n",
      "1  thank advance download youtube description box...      0.0\n",
      "2  order help increase booklets downloads would g...      0.0\n",
      "3  simply copy paste following text youtube video...      0.0\n",
      "4  click free download colorfully illustrated pag...      1.0\n",
      "5                click download mb green banner link      0.0\n",
      "6                             booklet updated feb th      0.0\n",
      "7                                          downloads      0.0\n",
      "8  pdf file httpwwwmediafirecomdownloadppgoadvvqv...      0.0\n",
      "9  simply copy text links paste description box y...      0.0\n"
     ]
    }
   ],
   "source": [
    "# Download stopwords\n",
    "nltk.download('stopwords')\n",
    "\n",
    "# Define stopwords\n",
    "stop_words = set(stopwords.words('english'))\n",
    "\n",
    "# Function to clean text\n",
    "def clean_text(text):\n",
    "    # Remove punctuation using regular expression\n",
    "    cleaned_text = re.sub(r\"([^A-Za-z\\s]+)\", '', text)\n",
    "\n",
    "    # Convert text to lowercase\n",
    "    cleaned_text = cleaned_text.lower()\n",
    "\n",
    "    # Remove stopwords\n",
    "    cleaned_text = ' '.join(word for word in cleaned_text.split() if word not in stop_words)\n",
    "\n",
    "    return cleaned_text\n",
    "\n",
    "# Apply the clean_text function to the 'tweet' column\n",
    "train_copy['tweet'] = train_copy['tweet'].apply(clean_text)\n",
    "\n",
    "# Display the updated DataFrame\n",
    "print(train_copy.head(10))\n"
   ]
  },
  {
   "cell_type": "markdown",
   "id": "biiV-MXiKJ43",
   "metadata": {
    "id": "biiV-MXiKJ43"
   },
   "source": [
    "### Stemming\n"
   ]
  },
  {
   "cell_type": "code",
   "execution_count": 10,
   "id": "emRkVRjQjIc1",
   "metadata": {
    "colab": {
     "base_uri": "https://localhost:8080/"
    },
    "id": "emRkVRjQjIc1",
    "outputId": "0a99a90c-5619-4bab-9805-4728a92adabb"
   },
   "outputs": [
    {
     "name": "stderr",
     "output_type": "stream",
     "text": [
      "[nltk_data] Downloading package punkt to\n",
      "[nltk_data]     C:\\Users\\hp\\AppData\\Roaming\\nltk_data...\n",
      "[nltk_data]   Package punkt is already up-to-date!\n"
     ]
    },
    {
     "name": "stdout",
     "output_type": "stream",
     "text": [
      "                                               tweet  is_hate\n",
      "0               march th booklet download time count      0.0\n",
      "1  thank advanc download youtub descript box info...      0.0\n",
      "2  order help increas booklet download would grea...      0.0\n",
      "3  simpli copi past follow text youtub video desc...      0.0\n",
      "4  click free download color illustr page ebook z...      1.0\n",
      "5                click download mb green banner link      0.0\n",
      "6                               booklet updat feb th      0.0\n",
      "7                                           download      0.0\n",
      "8  pdf file httpwwwmediafirecomdownloadppgoadvvqv...      0.0\n",
      "9  simpli copi text link past descript box youtub...      0.0\n"
     ]
    }
   ],
   "source": [
    "import nltk\n",
    "from nltk.tokenize import word_tokenize\n",
    "from nltk.stem import SnowballStemmer\n",
    "\n",
    "# Download 'punkt' tokenizer\n",
    "nltk.download('punkt')\n",
    "\n",
    "# Initialize SnowballStemmer\n",
    "snowball_stemmer = SnowballStemmer(language='english')\n",
    "\n",
    "# Function to lemmatize text\n",
    "def stem_text(text):\n",
    "    # Tokenize the text\n",
    "    tokens = word_tokenize(text)\n",
    "\n",
    "    # Stem each word in the text using SnowballStemmer\n",
    "    snowball_stemmed_words = [snowball_stemmer.stem(word) for word in tokens]\n",
    "\n",
    "    # Join the lemmatized tokens back into a string\n",
    "    stemmed_text = ' '.join(snowball_stemmed_words)\n",
    "\n",
    "    return stemmed_text\n",
    "\n",
    "# Apply stemming to the 'tweet' column\n",
    "train_copy['tweet'] = train_copy['tweet'].apply(stem_text)\n",
    "\n",
    "# Display the updated DataFrame\n",
    "print(train_copy.head(10))"
   ]
  },
  {
   "cell_type": "markdown",
   "id": "pYf0F3FrN4-N",
   "metadata": {
    "id": "pYf0F3FrN4-N"
   },
   "source": [
    "### Downsampling or Upsampling"
   ]
  },
  {
   "cell_type": "code",
   "execution_count": 14,
   "id": "EpUtQTRtOHvg",
   "metadata": {
    "colab": {
     "base_uri": "https://localhost:8080/"
    },
    "id": "EpUtQTRtOHvg",
    "outputId": "4ea6c165-c9ea-491b-8482-30a54186860f"
   },
   "outputs": [
    {
     "data": {
      "text/plain": [
       "0.0    446953\n",
       "1.0     84362\n",
       "Name: is_hate, dtype: int64"
      ]
     },
     "execution_count": 14,
     "metadata": {},
     "output_type": "execute_result"
    }
   ],
   "source": [
    "train_copy['is_hate'].value_counts()"
   ]
  },
  {
   "cell_type": "markdown",
   "id": "9442e59e",
   "metadata": {
    "id": "9442e59e"
   },
   "source": [
    "Our dataset suffers from class imbalance. 84% of the tweet in the dataset are classified as non hate. This number will overwhelm the hate speech text and make our model biased. To solve this, we will down sampling the hate speech to 84,362 using sklearn resample class.\n",
    "\n",
    "However,before treating class imbalance, we will have to split the dataset into train and test to avoid data leakage."
   ]
  },
  {
   "cell_type": "markdown",
   "id": "420491d8",
   "metadata": {
    "id": "420491d8"
   },
   "source": [
    "## Split the dataset into train/test"
   ]
  },
  {
   "cell_type": "code",
   "execution_count": 11,
   "id": "cc10a301",
   "metadata": {
    "colab": {
     "base_uri": "https://localhost:8080/",
     "height": 206
    },
    "id": "cc10a301",
    "outputId": "843d240e-8fdb-4b0c-b15e-c10e9a625b99"
   },
   "outputs": [
    {
     "data": {
      "text/html": [
       "<div>\n",
       "<style scoped>\n",
       "    .dataframe tbody tr th:only-of-type {\n",
       "        vertical-align: middle;\n",
       "    }\n",
       "\n",
       "    .dataframe tbody tr th {\n",
       "        vertical-align: top;\n",
       "    }\n",
       "\n",
       "    .dataframe thead th {\n",
       "        text-align: right;\n",
       "    }\n",
       "</style>\n",
       "<table border=\"1\" class=\"dataframe\">\n",
       "  <thead>\n",
       "    <tr style=\"text-align: right;\">\n",
       "      <th></th>\n",
       "      <th>tweet</th>\n",
       "      <th>is_hate</th>\n",
       "    </tr>\n",
       "  </thead>\n",
       "  <tbody>\n",
       "    <tr>\n",
       "      <th>24698</th>\n",
       "      <td>user omg tell even tho pack lunch tonight</td>\n",
       "      <td>0.0</td>\n",
       "    </tr>\n",
       "    <tr>\n",
       "      <th>412178</th>\n",
       "      <td>air oper conduct divert disrupt delay destroy ...</td>\n",
       "      <td>0.0</td>\n",
       "    </tr>\n",
       "    <tr>\n",
       "      <th>287671</th>\n",
       "      <td>hello assum articl creator log anyhow use stan...</td>\n",
       "      <td>0.0</td>\n",
       "    </tr>\n",
       "    <tr>\n",
       "      <th>76556</th>\n",
       "      <td>utaskia watu wa kumira kumira wakisifu jubile ...</td>\n",
       "      <td>0.0</td>\n",
       "    </tr>\n",
       "    <tr>\n",
       "      <th>339699</th>\n",
       "      <td>also high suggest anyth like log evad block ex...</td>\n",
       "      <td>0.0</td>\n",
       "    </tr>\n",
       "  </tbody>\n",
       "</table>\n",
       "</div>"
      ],
      "text/plain": [
       "                                                    tweet  is_hate\n",
       "24698           user omg tell even tho pack lunch tonight      0.0\n",
       "412178  air oper conduct divert disrupt delay destroy ...      0.0\n",
       "287671  hello assum articl creator log anyhow use stan...      0.0\n",
       "76556   utaskia watu wa kumira kumira wakisifu jubile ...      0.0\n",
       "339699  also high suggest anyth like log evad block ex...      0.0"
      ]
     },
     "execution_count": 11,
     "metadata": {},
     "output_type": "execute_result"
    }
   ],
   "source": [
    "# separate the dataset into X and y\n",
    "X = train_copy[\"tweet\"]\n",
    "y = train_copy[\"is_hate\"]\n",
    "\n",
    "# Split the data into training and testing sets\n",
    "X_train, X_test, y_train, y_test = train_test_split(X, y, test_size=0.2, random_state=50)\n",
    "\n",
    "# Concatenate the training data\n",
    "X = pd.concat([X_train, y_train], axis = 1)\n",
    "X.head()"
   ]
  },
  {
   "cell_type": "code",
   "execution_count": 12,
   "id": "05a24d22",
   "metadata": {
    "colab": {
     "base_uri": "https://localhost:8080/"
    },
    "id": "05a24d22",
    "outputId": "4acb1e67-aa98-4849-cf21-86cc6e7c9017"
   },
   "outputs": [
    {
     "data": {
      "text/plain": [
       "0.0    357468\n",
       "1.0     67584\n",
       "Name: is_hate, dtype: int64"
      ]
     },
     "execution_count": 12,
     "metadata": {},
     "output_type": "execute_result"
    }
   ],
   "source": [
    "# check the class disctribution\n",
    "X['is_hate'].value_counts()"
   ]
  },
  {
   "cell_type": "code",
   "execution_count": 13,
   "id": "79cf6013",
   "metadata": {},
   "outputs": [
    {
     "data": {
      "text/plain": [
       "441309    oh dear much want per whenev noth kind unless ...\n",
       "17244            user go take america ban gun gun stupidlog\n",
       "264960    statement zac efron valid inclus articl sourc ...\n",
       "222341    ca work defin new govern meritocraci yes cours...\n",
       "109489    pandem unit kingdom first ten healthcar worker...\n",
       "                                ...                        \n",
       "346501    pleas refrain remov content wikipedia new engl...\n",
       "73765          webe ni ure ure nadha haoo electionsboycottk\n",
       "145602    honest men trash shit fuck around wrong one do...\n",
       "84349     wife attempt divorc bcoz cannt provid blameito...\n",
       "209917                  trashi wash machin could clean shit\n",
       "Name: tweet, Length: 106263, dtype: object"
      ]
     },
     "execution_count": 13,
     "metadata": {},
     "output_type": "execute_result"
    }
   ],
   "source": [
    "X_test"
   ]
  },
  {
   "cell_type": "markdown",
   "id": "5fbf0507",
   "metadata": {
    "id": "5fbf0507"
   },
   "source": [
    "Now, we will make each class contains 67584 tweet each"
   ]
  },
  {
   "cell_type": "code",
   "execution_count": 14,
   "id": "5bbf58a5",
   "metadata": {
    "colab": {
     "base_uri": "https://localhost:8080/",
     "height": 424
    },
    "id": "5bbf58a5",
    "outputId": "d7fd9021-7b8c-4579-f0c6-b14c0be5934b"
   },
   "outputs": [
    {
     "data": {
      "text/html": [
       "<div>\n",
       "<style scoped>\n",
       "    .dataframe tbody tr th:only-of-type {\n",
       "        vertical-align: middle;\n",
       "    }\n",
       "\n",
       "    .dataframe tbody tr th {\n",
       "        vertical-align: top;\n",
       "    }\n",
       "\n",
       "    .dataframe thead th {\n",
       "        text-align: right;\n",
       "    }\n",
       "</style>\n",
       "<table border=\"1\" class=\"dataframe\">\n",
       "  <thead>\n",
       "    <tr style=\"text-align: right;\">\n",
       "      <th></th>\n",
       "      <th>tweet</th>\n",
       "      <th>is_hate</th>\n",
       "    </tr>\n",
       "  </thead>\n",
       "  <tbody>\n",
       "    <tr>\n",
       "      <th>24698</th>\n",
       "      <td>user omg tell even tho pack lunch tonight</td>\n",
       "      <td>0.0</td>\n",
       "    </tr>\n",
       "    <tr>\n",
       "      <th>412178</th>\n",
       "      <td>air oper conduct divert disrupt delay destroy ...</td>\n",
       "      <td>0.0</td>\n",
       "    </tr>\n",
       "    <tr>\n",
       "      <th>287671</th>\n",
       "      <td>hello assum articl creator log anyhow use stan...</td>\n",
       "      <td>0.0</td>\n",
       "    </tr>\n",
       "    <tr>\n",
       "      <th>76556</th>\n",
       "      <td>utaskia watu wa kumira kumira wakisifu jubile ...</td>\n",
       "      <td>0.0</td>\n",
       "    </tr>\n",
       "    <tr>\n",
       "      <th>339699</th>\n",
       "      <td>also high suggest anyth like log evad block ex...</td>\n",
       "      <td>0.0</td>\n",
       "    </tr>\n",
       "    <tr>\n",
       "      <th>...</th>\n",
       "      <td>...</td>\n",
       "      <td>...</td>\n",
       "    </tr>\n",
       "    <tr>\n",
       "      <th>506085</th>\n",
       "      <td>hoodoo hook kitti thought douchebag er mean mi...</td>\n",
       "      <td>0.0</td>\n",
       "    </tr>\n",
       "    <tr>\n",
       "      <th>385156</th>\n",
       "      <td>miss darl oratorio lyric love</td>\n",
       "      <td>0.0</td>\n",
       "    </tr>\n",
       "    <tr>\n",
       "      <th>441633</th>\n",
       "      <td>articl slut unprotect seen signific posit cont...</td>\n",
       "      <td>0.0</td>\n",
       "    </tr>\n",
       "    <tr>\n",
       "      <th>239499</th>\n",
       "      <td>kid colin spew plate get mr</td>\n",
       "      <td>0.0</td>\n",
       "    </tr>\n",
       "    <tr>\n",
       "      <th>103904</th>\n",
       "      <td>need go away one want see media advoc gun cont...</td>\n",
       "      <td>0.0</td>\n",
       "    </tr>\n",
       "  </tbody>\n",
       "</table>\n",
       "<p>357468 rows × 2 columns</p>\n",
       "</div>"
      ],
      "text/plain": [
       "                                                    tweet  is_hate\n",
       "24698           user omg tell even tho pack lunch tonight      0.0\n",
       "412178  air oper conduct divert disrupt delay destroy ...      0.0\n",
       "287671  hello assum articl creator log anyhow use stan...      0.0\n",
       "76556   utaskia watu wa kumira kumira wakisifu jubile ...      0.0\n",
       "339699  also high suggest anyth like log evad block ex...      0.0\n",
       "...                                                   ...      ...\n",
       "506085  hoodoo hook kitti thought douchebag er mean mi...      0.0\n",
       "385156                      miss darl oratorio lyric love      0.0\n",
       "441633  articl slut unprotect seen signific posit cont...      0.0\n",
       "239499                        kid colin spew plate get mr      0.0\n",
       "103904  need go away one want see media advoc gun cont...      0.0\n",
       "\n",
       "[357468 rows x 2 columns]"
      ]
     },
     "execution_count": 14,
     "metadata": {},
     "output_type": "execute_result"
    }
   ],
   "source": [
    "X.query(\"is_hate == 0.0\")"
   ]
  },
  {
   "cell_type": "code",
   "execution_count": 15,
   "id": "f45168d4",
   "metadata": {
    "colab": {
     "base_uri": "https://localhost:8080/"
    },
    "id": "f45168d4",
    "outputId": "3ee0bc21-d974-4213-e176-77866347167c"
   },
   "outputs": [
    {
     "name": "stdout",
     "output_type": "stream",
     "text": [
      "Hate datasets: 67584\n"
     ]
    },
    {
     "data": {
      "text/plain": [
       "0.0    67584\n",
       "1.0    67584\n",
       "Name: is_hate, dtype: int64"
      ]
     },
     "execution_count": 15,
     "metadata": {},
     "output_type": "execute_result"
    }
   ],
   "source": [
    "# Separate dataset to hate and non hate\n",
    "is_hate = X.query(\"is_hate == 1.0\")\n",
    "not_hate = X.query(\"is_hate == 0.0\")\n",
    "\n",
    "# Determine the size of is_hate\n",
    "num_is_hate = len(is_hate)\n",
    "print(f\"Hate datasets: {num_is_hate}\")\n",
    "\n",
    "# Downsample the not hate class\n",
    "not_hate_downsampled = resample(not_hate,\n",
    "                               replace=False,  # sample without replacement\n",
    "                               n_samples=num_is_hate,  # match minority class size\n",
    "                               random_state=42)  # reproducible results\n",
    "\n",
    "# Combine the downsampled not_hate class with the is_hate class\n",
    "downsampled_X = pd.concat([not_hate_downsampled, is_hate])\n",
    "\n",
    "# confirm the class is now balance\n",
    "downsampled_X['is_hate'].value_counts()"
   ]
  },
  {
   "cell_type": "code",
   "execution_count": 16,
   "id": "a00d7030",
   "metadata": {
    "colab": {
     "base_uri": "https://localhost:8080/",
     "height": 363
    },
    "id": "a00d7030",
    "outputId": "7c444b4c-1318-4681-b05d-013372bac74b"
   },
   "outputs": [
    {
     "data": {
      "text/html": [
       "<div>\n",
       "<style scoped>\n",
       "    .dataframe tbody tr th:only-of-type {\n",
       "        vertical-align: middle;\n",
       "    }\n",
       "\n",
       "    .dataframe tbody tr th {\n",
       "        vertical-align: top;\n",
       "    }\n",
       "\n",
       "    .dataframe thead th {\n",
       "        text-align: right;\n",
       "    }\n",
       "</style>\n",
       "<table border=\"1\" class=\"dataframe\">\n",
       "  <thead>\n",
       "    <tr style=\"text-align: right;\">\n",
       "      <th></th>\n",
       "      <th>tweet</th>\n",
       "      <th>is_hate</th>\n",
       "    </tr>\n",
       "  </thead>\n",
       "  <tbody>\n",
       "    <tr>\n",
       "      <th>113671</th>\n",
       "      <td>wow actual terribl imagin proud get peopl disa...</td>\n",
       "      <td>1.0</td>\n",
       "    </tr>\n",
       "    <tr>\n",
       "      <th>81482</th>\n",
       "      <td>jubile project longer nation polic servic cont...</td>\n",
       "      <td>0.0</td>\n",
       "    </tr>\n",
       "    <tr>\n",
       "      <th>447273</th>\n",
       "      <td>audeviver block account block user account off...</td>\n",
       "      <td>0.0</td>\n",
       "    </tr>\n",
       "    <tr>\n",
       "      <th>330103</th>\n",
       "      <td>realli actual tri negoti offer get whatev chin...</td>\n",
       "      <td>0.0</td>\n",
       "    </tr>\n",
       "    <tr>\n",
       "      <th>196648</th>\n",
       "      <td>fuck sake hate best friend</td>\n",
       "      <td>0.0</td>\n",
       "    </tr>\n",
       "    <tr>\n",
       "      <th>313691</th>\n",
       "      <td>mos trim anybodi know name edgeworthstown slut...</td>\n",
       "      <td>0.0</td>\n",
       "    </tr>\n",
       "    <tr>\n",
       "      <th>225639</th>\n",
       "      <td>retweet rape</td>\n",
       "      <td>1.0</td>\n",
       "    </tr>\n",
       "    <tr>\n",
       "      <th>103999</th>\n",
       "      <td>consist stupid argument gun control advoc make</td>\n",
       "      <td>0.0</td>\n",
       "    </tr>\n",
       "    <tr>\n",
       "      <th>156982</th>\n",
       "      <td>someon sick send doctor ask come hospit explai...</td>\n",
       "      <td>1.0</td>\n",
       "    </tr>\n",
       "    <tr>\n",
       "      <th>408857</th>\n",
       "      <td>real guess one relev connect subject birthplac...</td>\n",
       "      <td>0.0</td>\n",
       "    </tr>\n",
       "  </tbody>\n",
       "</table>\n",
       "</div>"
      ],
      "text/plain": [
       "                                                    tweet  is_hate\n",
       "113671  wow actual terribl imagin proud get peopl disa...      1.0\n",
       "81482   jubile project longer nation polic servic cont...      0.0\n",
       "447273  audeviver block account block user account off...      0.0\n",
       "330103  realli actual tri negoti offer get whatev chin...      0.0\n",
       "196648                         fuck sake hate best friend      0.0\n",
       "313691  mos trim anybodi know name edgeworthstown slut...      0.0\n",
       "225639                                       retweet rape      1.0\n",
       "103999     consist stupid argument gun control advoc make      0.0\n",
       "156982  someon sick send doctor ask come hospit explai...      1.0\n",
       "408857  real guess one relev connect subject birthplac...      0.0"
      ]
     },
     "execution_count": 16,
     "metadata": {},
     "output_type": "execute_result"
    }
   ],
   "source": [
    "downsampled_X.sample(10)"
   ]
  },
  {
   "cell_type": "code",
   "execution_count": 22,
   "id": "e00a24ea",
   "metadata": {},
   "outputs": [
    {
     "data": {
      "text/plain": [
       "array(['hello threshold inclus wikipedia variabl enough simpli assert topic notabl without substanti claim pleas verifi notabl subject reliabl third parti sourc want read music provid guidelin concept notabl appli topic relat music includ artist band album song regard',\n",
       "       'includ appropri mention solomon articl without level support',\n",
       "       'thank thank help articl suzann romain much appreci simontcop',\n",
       "       ..., 'never given cracker transmitt flip see',\n",
       "       'behavior year old fucktard',\n",
       "       'stupid asshol never die right instead becom wikipedia admin die'],\n",
       "      dtype=object)"
      ]
     },
     "execution_count": 22,
     "metadata": {},
     "output_type": "execute_result"
    }
   ],
   "source": [
    "downsampled_X['tweet'].values"
   ]
  },
  {
   "cell_type": "markdown",
   "id": "c0da34d8",
   "metadata": {
    "id": "c0da34d8"
   },
   "source": [
    "### Text Vectorization\n",
    "\n"
   ]
  },
  {
   "cell_type": "code",
   "execution_count": 23,
   "id": "c3573208",
   "metadata": {
    "id": "c3573208"
   },
   "outputs": [],
   "source": [
    "def vectorize_tweet(df):\n",
    "    text = df['tweet'].values\n",
    "    y = df['is_hate'].reset_index(drop = True)\n",
    "\n",
    "    # Create an instance of CountVectorizer\n",
    "    vectorizer = CountVectorizer(stop_words=\"english\", ngram_range=(1, 2),analyzer='word', max_df= 0.8, min_df=10,\n",
    "                                 max_features=1000)\n",
    "\n",
    "    # Fit the vectorizer to the corpus and transform the documents into a document-term matrix\n",
    "    X = vectorizer.fit_transform(text)\n",
    "\n",
    "    # Convert the sparse matrix to an array for better visualization\n",
    "    X_array = X.toarray()\n",
    "\n",
    "    # Get the feature names\n",
    "    feature_names = vectorizer.get_feature_names_out()\n",
    "\n",
    "    return X_array, y, feature_names, vectorizer\n",
    "\n",
    "# Training dataset\n",
    "X_train_vect, y_train, feature_names, vectorizer = vectorize_tweet(downsampled_X)"
   ]
  },
  {
   "cell_type": "code",
   "execution_count": 27,
   "id": "15c178b2",
   "metadata": {},
   "outputs": [
    {
     "name": "stdout",
     "output_type": "stream",
     "text": [
      "Model has been pickled and saved to vectorizer.pkl\n"
     ]
    }
   ],
   "source": [
    "# You need to replace 'model' with your actual model object\n",
    "model = vectorizer\n",
    "\n",
    "# Specify the file path where you want to save the pickled model\n",
    "file_path = 'vectorizer.pkl'\n",
    "\n",
    "# Pickle the model and save it to the specified file\n",
    "with open(file_path, 'wb') as f:\n",
    "    pickle.dump(model, f)\n",
    "\n",
    "print(\"Model has been pickled and saved to\", file_path)\n"
   ]
  },
  {
   "cell_type": "code",
   "execution_count": 25,
   "id": "3b94067d",
   "metadata": {},
   "outputs": [
    {
     "data": {
      "text/plain": [
       "441309    oh dear much want per whenev noth kind unless ...\n",
       "17244            user go take america ban gun gun stupidlog\n",
       "264960    statement zac efron valid inclus articl sourc ...\n",
       "222341    ca work defin new govern meritocraci yes cours...\n",
       "109489    pandem unit kingdom first ten healthcar worker...\n",
       "                                ...                        \n",
       "346501    pleas refrain remov content wikipedia new engl...\n",
       "73765          webe ni ure ure nadha haoo electionsboycottk\n",
       "145602    honest men trash shit fuck around wrong one do...\n",
       "84349     wife attempt divorc bcoz cannt provid blameito...\n",
       "209917                  trashi wash machin could clean shit\n",
       "Name: tweet, Length: 106263, dtype: object"
      ]
     },
     "execution_count": 25,
     "metadata": {},
     "output_type": "execute_result"
    }
   ],
   "source": [
    "X_test"
   ]
  },
  {
   "cell_type": "code",
   "execution_count": 28,
   "id": "c7259597",
   "metadata": {
    "id": "c7259597"
   },
   "outputs": [],
   "source": [
    "# Test dataset\n",
    "X_test_vect = vectorizer.transform(X_test.values)"
   ]
  },
  {
   "cell_type": "markdown",
   "id": "38BBaQaAq-LF",
   "metadata": {
    "id": "38BBaQaAq-LF"
   },
   "source": [
    "##Modelling and Model Evaluation"
   ]
  },
  {
   "cell_type": "code",
   "execution_count": 23,
   "id": "eT5eKMy_zaHz",
   "metadata": {
    "colab": {
     "base_uri": "https://localhost:8080/"
    },
    "id": "eT5eKMy_zaHz",
    "outputId": "026e3a14-6ca9-406a-a1ab-c3063bf089ab"
   },
   "outputs": [
    {
     "name": "stdout",
     "output_type": "stream",
     "text": [
      "Fitting Random Forest...\n",
      "Performance metrics for Random Forest:\n",
      "Accuracy: 0.7643111901602627\n",
      "F1-score: 0.5161601916426791\n",
      "Recall: 0.7962212421027536\n",
      "Precision: 0.3818493640131485\n",
      "Fitting XGBoost...\n"
     ]
    },
    {
     "name": "stderr",
     "output_type": "stream",
     "text": [
      "/usr/local/lib/python3.10/dist-packages/sklearn/metrics/_classification.py:1344: UndefinedMetricWarning: Precision is ill-defined and being set to 0.0 due to no predicted samples. Use `zero_division` parameter to control this behavior.\n",
      "  _warn_prf(average, modifier, msg_start, len(result))\n"
     ]
    },
    {
     "name": "stdout",
     "output_type": "stream",
     "text": [
      "Performance metrics for XGBoost:\n",
      "Accuracy: 0.8421087302259488\n",
      "F1-score: 0.0\n",
      "Recall: 0.0\n",
      "Precision: 0.0\n",
      "Fitting AdaBoost...\n",
      "Performance metrics for AdaBoost:\n",
      "Accuracy: 0.8150720382447324\n",
      "F1-score: 0.4767129124171171\n",
      "Recall: 0.5334962450828465\n",
      "Precision: 0.43085439229843564\n",
      "Fitting Logistic Regression...\n"
     ]
    },
    {
     "name": "stderr",
     "output_type": "stream",
     "text": [
      "/usr/local/lib/python3.10/dist-packages/sklearn/linear_model/_logistic.py:458: ConvergenceWarning: lbfgs failed to converge (status=1):\n",
      "STOP: TOTAL NO. of ITERATIONS REACHED LIMIT.\n",
      "\n",
      "Increase the number of iterations (max_iter) or scale the data as shown in:\n",
      "    https://scikit-learn.org/stable/modules/preprocessing.html\n",
      "Please also refer to the documentation for alternative solver options:\n",
      "    https://scikit-learn.org/stable/modules/linear_model.html#logistic-regression\n",
      "  n_iter_i = _check_optimize_result(\n"
     ]
    },
    {
     "name": "stdout",
     "output_type": "stream",
     "text": [
      "Performance metrics for Logistic Regression:\n",
      "Accuracy: 0.7847322209988425\n",
      "F1-score: 0.5167015275400899\n",
      "Recall: 0.7288115389200143\n",
      "Precision: 0.40022256406899487\n",
      "Fitting K Neighbors...\n",
      "Performance metrics for K Neighbors:\n",
      "Accuracy: 0.7103130911041473\n",
      "F1-score: 0.4294901495635413\n",
      "Recall: 0.6906067469305043\n",
      "Precision: 0.311654428575271\n"
     ]
    }
   ],
   "source": [
    "from sklearn.ensemble import RandomForestClassifier, AdaBoostClassifier\n",
    "from sklearn.linear_model import LogisticRegression\n",
    "from xgboost import XGBClassifier\n",
    "from sklearn.neighbors import KNeighborsClassifier\n",
    "\n",
    "from sklearn.metrics import accuracy_score, precision_score, recall_score, f1_score\n",
    "\n",
    "# Initialize models\n",
    "models = {\n",
    "    \"Random Forest\": RandomForestClassifier(),\n",
    "    \"XGBoost\": XGBClassifier(),\n",
    "    \"AdaBoost\": AdaBoostClassifier(),\n",
    "    \"Logistic Regression\": LogisticRegression(),\n",
    "    \"K Neighbors\": KNeighborsClassifier()\n",
    "}\n",
    "\n",
    "# Train and evaluate each model\n",
    "for name, model in models.items():\n",
    "    print(f\"Fitting {name}...\")\n",
    "    model.fit(X_train_vect, y_train)\n",
    "    y_pred = model.predict(X_test_vect)\n",
    "\n",
    "    # Calculate performance metrics\n",
    "    accuracy = accuracy_score(y_test, y_pred)\n",
    "    precision = precision_score(y_test, y_pred)\n",
    "    recall = recall_score(y_test, y_pred)\n",
    "    f1 = f1_score(y_test, y_pred)\n",
    "\n",
    "    # Print performance metrics\n",
    "    print(f\"Performance metrics for {name}:\")\n",
    "    print(f\"Accuracy: {accuracy}\")\n",
    "    print(f\"F1-score: {f1}\")\n",
    "    print(f\"Recall: {recall}\")\n",
    "    print(f\"Precision: {precision}\")\n"
   ]
  },
  {
   "cell_type": "markdown",
   "id": "_ZXq7Pf5UtpL",
   "metadata": {
    "id": "_ZXq7Pf5UtpL"
   },
   "source": [
    "**Accuracy** measures overall correctness. \\\n",
    "**Precision** proportion of positively predicted labels that are actually correct.\\\n",
    "**Recall** represents the model’s ability to correctly predict the positives out of actual positives. \\\n",
    "**F1 score** provides a balance between precision and recall, considering both false positives and false negatives/ is harmonic mean of precision and recall score."
   ]
  },
  {
   "cell_type": "code",
   "execution_count": 23,
   "id": "h3jxlvXScINd",
   "metadata": {
    "colab": {
     "base_uri": "https://localhost:8080/"
    },
    "id": "h3jxlvXScINd",
    "outputId": "0b1cb174-aef6-4212-8085-67712176cbfe"
   },
   "outputs": [
    {
     "name": "stdout",
     "output_type": "stream",
     "text": [
      "Performance metrics for Multinomial Naive Bayes:\n",
      "Accuracy: 0.6504710011951479\n",
      "F1-score: 0.42888335332287725\n",
      "Recall: 0.8312075336750506\n",
      "Precision: 0.2890003315649867\n"
     ]
    }
   ],
   "source": [
    "#Multinomial Naive Bayes\n",
    "from sklearn.naive_bayes import MultinomialNB\n",
    "from sklearn.metrics import accuracy_score, precision_score, recall_score, f1_score\n",
    "\n",
    "# Initialize Multinomial Naive Bayes model\n",
    "nb_model = MultinomialNB()\n",
    "\n",
    "# Train Multinomial Naive Bayes model\n",
    "nb_model.fit(X_train_vect, y_train)\n",
    "\n",
    "# Make predictions\n",
    "y_pred = nb_model.predict(X_test_vect)\n",
    "\n",
    "# Calculate performance metrics\n",
    "accuracy = accuracy_score(y_test, y_pred)\n",
    "precision = precision_score(y_test, y_pred)\n",
    "recall = recall_score(y_test, y_pred)\n",
    "f1 = f1_score(y_test, y_pred)\n",
    "\n",
    "# Print performance metrics\n",
    "print(\"Performance metrics for Multinomial Naive Bayes:\")\n",
    "print(f\"Accuracy: {accuracy}\")\n",
    "print(f\"F1-score: {f1}\")\n",
    "print(f\"Recall: {recall}\")\n",
    "print(f\"Precision: {precision}\")\n"
   ]
  },
  {
   "cell_type": "code",
   "execution_count": 29,
   "id": "d5mIPmDqgfyG",
   "metadata": {
    "colab": {
     "base_uri": "https://localhost:8080/"
    },
    "id": "d5mIPmDqgfyG",
    "outputId": "04c2bc4e-0e60-42fc-fc95-c22827cbdb24"
   },
   "outputs": [
    {
     "ename": "NameError",
     "evalue": "name 'accuracy_score' is not defined",
     "output_type": "error",
     "traceback": [
      "\u001b[1;31m---------------------------------------------------------------------------\u001b[0m",
      "\u001b[1;31mNameError\u001b[0m                                 Traceback (most recent call last)",
      "Cell \u001b[1;32mIn[29], line 14\u001b[0m\n\u001b[0;32m     11\u001b[0m y_pred \u001b[38;5;241m=\u001b[39m adb_model\u001b[38;5;241m.\u001b[39mpredict(X_test_vect)\n\u001b[0;32m     13\u001b[0m \u001b[38;5;66;03m# Calculate performance metrics\u001b[39;00m\n\u001b[1;32m---> 14\u001b[0m accuracy \u001b[38;5;241m=\u001b[39m accuracy_score(y_test, y_pred)\n\u001b[0;32m     15\u001b[0m precision \u001b[38;5;241m=\u001b[39m precision_score(y_test, y_pred)\n\u001b[0;32m     16\u001b[0m recall \u001b[38;5;241m=\u001b[39m recall_score(y_test, y_pred)\n",
      "\u001b[1;31mNameError\u001b[0m: name 'accuracy_score' is not defined"
     ]
    }
   ],
   "source": [
    "#AdaBoost\n",
    "from sklearn.ensemble import AdaBoostClassifier\n",
    "\n",
    "# Initialize AdaBoost model\n",
    "adb_model = AdaBoostClassifier()\n",
    "\n",
    "# Train AdaBoost model\n",
    "adb_model.fit(X_train_vect, y_train)\n",
    "\n",
    "# Make predictions\n",
    "y_pred = adb_model.predict(X_test_vect)\n",
    "\n",
    "# Calculate performance metrics\n",
    "accuracy = accuracy_score(y_test, y_pred)\n",
    "precision = precision_score(y_test, y_pred)\n",
    "recall = recall_score(y_test, y_pred)\n",
    "f1 = f1_score(y_test, y_pred)\n",
    "\n",
    "# Print performance metrics\n",
    "print(\"Performance metrics for AdaBoost:\")\n",
    "print(f\"Accuracy: {accuracy}\")\n",
    "print(f\"F1-score: {f1}\")\n",
    "print(f\"Recall: {recall}\")\n",
    "print(f\"Precision: {precision}\")"
   ]
  },
  {
   "cell_type": "code",
   "execution_count": 30,
   "id": "60d29f7f",
   "metadata": {},
   "outputs": [
    {
     "name": "stdout",
     "output_type": "stream",
     "text": [
      "Model has been pickled and saved to AdaBoost.pkl\n"
     ]
    }
   ],
   "source": [
    "# You need to replace 'model' with your actual model object\n",
    "model = adb_model\n",
    "\n",
    "# Specify the file path where you want to save the pickled model\n",
    "file_path = 'AdaBoost.pkl'\n",
    "\n",
    "# Pickle the model and save it to the specified file\n",
    "with open(file_path, 'wb') as f:\n",
    "    pickle.dump(model, f)\n",
    "\n",
    "print(\"Model has been pickled and saved to\", file_path)"
   ]
  },
  {
   "cell_type": "code",
   "execution_count": null,
   "id": "d01416ae",
   "metadata": {},
   "outputs": [],
   "source": []
  }
 ],
 "metadata": {
  "colab": {
   "provenance": []
  },
  "kernelspec": {
   "display_name": "Python 3 (ipykernel)",
   "language": "python",
   "name": "python3"
  },
  "language_info": {
   "codemirror_mode": {
    "name": "ipython",
    "version": 3
   },
   "file_extension": ".py",
   "mimetype": "text/x-python",
   "name": "python",
   "nbconvert_exporter": "python",
   "pygments_lexer": "ipython3",
   "version": "3.11.4"
  }
 },
 "nbformat": 4,
 "nbformat_minor": 5
}
